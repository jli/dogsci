{
 "cells": [
  {
   "cell_type": "markdown",
   "id": "c906ddf1-202a-4190-ad9d-813a7412cea3",
   "metadata": {},
   "source": [
    "# tensorflow model internals"
   ]
  },
  {
   "cell_type": "code",
   "execution_count": 237,
   "id": "7215d6aa-b58f-48c5-9b89-d4c02885b796",
   "metadata": {},
   "outputs": [
    {
     "name": "stdout",
     "output_type": "stream",
     "text": [
      "tf.config.functions_run_eagerly()=False\n",
      "tf.config.list_logical_devices()=[LogicalDevice(name='/device:CPU:0', device_type='CPU'), LogicalDevice(name='/device:GPU:0', device_type='GPU')]\n"
     ]
    }
   ],
   "source": [
    "import os\n",
    "import sys\n",
    "import tensorflow as tf\n",
    "print(f'{tf.config.functions_run_eagerly()=}')\n",
    "print(f'{tf.config.list_logical_devices()=}')"
   ]
  },
  {
   "cell_type": "code",
   "execution_count": 103,
   "id": "82d2f85a-4ed6-4c4a-9183-a8d6623b4750",
   "metadata": {},
   "outputs": [],
   "source": [
    "tf.debugging.set_log_device_placement(True)"
   ]
  },
  {
   "cell_type": "code",
   "execution_count": 104,
   "id": "6620f52c-5b9a-4e47-a56d-7d95a19b5db8",
   "metadata": {},
   "outputs": [],
   "source": [
    "def pub(obj) -> list[str]:\n",
    "    return [x for x in dir(obj) if not x.startswith('_')]\n",
    "\n",
    "def pub_v(obj):\n",
    "    # return {x: getattr(obj,x) for x in pub(obj)}\n",
    "    res = {}\n",
    "    for x in pub(obj):\n",
    "        try:\n",
    "            res[x] = getattr(obj, x)\n",
    "        except Exception as e:\n",
    "            print(f\"exn getting {x}: {e!r}\")\n",
    "            res[x] = e\n",
    "    return res\n",
    "\n",
    "def pub_t(obj) -> dict[str, type]:\n",
    "    return {k: type(v) for k, v in pub_v(obj).items()}\n",
    "\n",
    "### tf debug\n",
    "\n",
    "def render_node(n) -> str:\n",
    "    return f\"{n.name}/{n.op}({n.input}) -> {dict(n.attr)}\"\n",
    "\n",
    "def graph_size(cf):\n",
    "    return len(cf.graph.as_graph_def().node)"
   ]
  },
  {
   "cell_type": "markdown",
   "id": "8639419a-5715-4508-8ed6-96642650ac76",
   "metadata": {},
   "source": [
    "## saved models"
   ]
  },
  {
   "cell_type": "code",
   "execution_count": 122,
   "id": "823bcbae-76a2-4f48-85ff-b8e88a0559f5",
   "metadata": {},
   "outputs": [],
   "source": [
    "# full maxdiff model\n",
    "os.chdir('/Users/j/tmp/maxdiff_serving_stuff/prod_20220526_1414_bc1fca90-b95f-4ac9-b297-dd35a3a5bcc0/ApprovalBidenDv_d_maxdiff/serving/full')"
   ]
  },
  {
   "cell_type": "code",
   "execution_count": 123,
   "id": "3d0a38b7-42a7-486f-be57-edfc7f5aa6a2",
   "metadata": {},
   "outputs": [
    {
     "name": "stdout",
     "output_type": "stream",
     "text": [
      "CPU times: user 9.26 s, sys: 113 ms, total: 9.37 s\n",
      "Wall time: 9.38 s\n"
     ]
    },
    {
     "name": "stderr",
     "output_type": "stream",
     "text": [
      "2022-05-30 21:10:40.950130: I tensorflow/core/grappler/optimizers/custom_graph_optimizer_registry.cc:113] Plugin optimizer for device_type GPU is enabled.\n",
      "2022-05-30 21:10:40.956691: I tensorflow/core/grappler/optimizers/custom_graph_optimizer_registry.cc:113] Plugin optimizer for device_type GPU is enabled.\n"
     ]
    }
   ],
   "source": [
    "%%time\n",
    "m = tf.saved_model.load('.')"
   ]
  },
  {
   "cell_type": "code",
   "execution_count": 128,
   "id": "9137ac3b-0fd4-499b-a5c8-45edde14c676",
   "metadata": {},
   "outputs": [
    {
     "data": {
      "text/plain": [
       "{'graph_debug_info': tensorflow.core.protobuf.graph_debug_info_pb2.GraphDebugInfo,\n",
       " 'infer_raw': tensorflow.python.saved_model.function_deserialization.RestoredFunction,\n",
       " 'infer_raw_all_times': tensorflow.python.saved_model.function_deserialization.RestoredFunction,\n",
       " 'infer_transformed_examples': tensorflow.python.saved_model.function_deserialization.RestoredFunction,\n",
       " 'model': tensorflow.python.saved_model.load.Loader._recreate_base_user_object.<locals>._UserObject,\n",
       " 'signatures': tensorflow.python.saved_model.signature_serialization._SignatureMap,\n",
       " 'tensorflow_git_version': str,\n",
       " 'tensorflow_version': str}"
      ]
     },
     "execution_count": 128,
     "metadata": {},
     "output_type": "execute_result"
    }
   ],
   "source": [
    "pub_t(m)"
   ]
  },
  {
   "cell_type": "code",
   "execution_count": 239,
   "id": "630011d8-1dbb-42e0-88aa-54b1ca1983bf",
   "metadata": {},
   "outputs": [
    {
     "data": {
      "text/plain": [
       "{'graph_debug_info': 112,\n",
       " 'infer_raw': 48,\n",
       " 'infer_raw_all_times': 48,\n",
       " 'infer_transformed_examples': 48,\n",
       " 'model': 48,\n",
       " 'signatures': 48,\n",
       " 'tensorflow_git_version': 75,\n",
       " 'tensorflow_version': 54}"
      ]
     },
     "execution_count": 239,
     "metadata": {},
     "output_type": "execute_result"
    }
   ],
   "source": [
    "{k: sys.getsizeof(v) for k, v in pub_v(m).items()}"
   ]
  },
  {
   "cell_type": "code",
   "execution_count": 137,
   "id": "857a29df-efce-47a9-9318-f08ba49e861a",
   "metadata": {},
   "outputs": [
    {
     "data": {
      "text/plain": [
       "{'call_and_return_all_conditional_losses': tensorflow.python.saved_model.function_deserialization.RestoredFunction,\n",
       " 'keras_api': tensorflow.python.saved_model.load.Loader._recreate_base_user_object.<locals>._UserObject,\n",
       " 'layer-0': tensorflow.python.saved_model.load.Loader._recreate_base_user_object.<locals>._UserObject,\n",
       " 'layer-1': tensorflow.python.saved_model.load.Loader._recreate_base_user_object.<locals>._UserObject,\n",
       " 'layer-10': tensorflow.python.saved_model.load.Loader._recreate_base_user_object.<locals>._UserObject,\n",
       " 'layer-11': tensorflow.python.saved_model.load.Loader._recreate_base_user_object.<locals>._UserObject,\n",
       " 'layer-12': tensorflow.python.saved_model.load.Loader._recreate_base_user_object.<locals>._UserObject,\n",
       " 'layer-13': tensorflow.python.saved_model.load.Loader._recreate_base_user_object.<locals>._UserObject,\n",
       " 'layer-14': tensorflow.python.saved_model.load.Loader._recreate_base_user_object.<locals>._UserObject,\n",
       " 'layer-15': tensorflow.python.saved_model.load.Loader._recreate_base_user_object.<locals>._UserObject,\n",
       " 'layer-2': tensorflow.python.saved_model.load.Loader._recreate_base_user_object.<locals>._UserObject,\n",
       " 'layer-3': tensorflow.python.saved_model.load.Loader._recreate_base_user_object.<locals>._UserObject,\n",
       " 'layer-4': tensorflow.python.saved_model.load.Loader._recreate_base_user_object.<locals>._UserObject,\n",
       " 'layer-5': tensorflow.python.saved_model.load.Loader._recreate_base_user_object.<locals>._UserObject,\n",
       " 'layer-6': tensorflow.python.saved_model.load.Loader._recreate_base_user_object.<locals>._UserObject,\n",
       " 'layer-7': tensorflow.python.saved_model.load.Loader._recreate_base_user_object.<locals>._UserObject,\n",
       " 'layer-8': tensorflow.python.saved_model.load.Loader._recreate_base_user_object.<locals>._UserObject,\n",
       " 'layer-9': tensorflow.python.saved_model.load.Loader._recreate_base_user_object.<locals>._UserObject,\n",
       " 'regularization_losses': tensorflow.python.training.tracking.data_structures.ListWrapper,\n",
       " 'tft_layer': tensorflow.python.saved_model.load.Loader._recreate_base_user_object.<locals>._UserObject,\n",
       " 'trainable_variables': tensorflow.python.training.tracking.data_structures.ListWrapper,\n",
       " 'variables': tensorflow.python.training.tracking.data_structures.ListWrapper}"
      ]
     },
     "execution_count": 137,
     "metadata": {},
     "output_type": "execute_result"
    }
   ],
   "source": [
    "pub_t(m.model)"
   ]
  },
  {
   "cell_type": "code",
   "execution_count": 259,
   "id": "712a378d-4a8a-42ed-a527-5fbc7a48bbc2",
   "metadata": {},
   "outputs": [
    {
     "data": {
      "text/plain": [
       "['call_and_return_all_conditional_losses',\n",
       " 'call_and_return_conditional_losses',\n",
       " 'layer_metrics',\n",
       " 'layer_regularization_losses',\n",
       " 'layers',\n",
       " 'metrics',\n",
       " 'non_trainable_variables',\n",
       " 'regularization_losses',\n",
       " 'trainable_variables',\n",
       " 'variables']"
      ]
     },
     "execution_count": 259,
     "metadata": {},
     "output_type": "execute_result"
    }
   ],
   "source": [
    "pub(m.model.keras_api)"
   ]
  },
  {
   "cell_type": "code",
   "execution_count": 308,
   "id": "283f54c1-2ea9-418c-994f-aef5b9238678",
   "metadata": {},
   "outputs": [],
   "source": [
    "# from __future__ import annotations\n",
    "# from typing import Any\n",
    "# import graphviz\n",
    "\n",
    "# class ObjGraph:\n",
    "#     obj: Any\n",
    "#     _attrs: dict[str, ObjGraph]\n",
    "    \n",
    "#     def __init__(self, obj):\n",
    "#         self.obj = obj\n",
    "#         self._attrs = {}\n",
    "    \n",
    "#     def attrs(self):\n",
    "#         if not self._attrs:\n",
    "#             for k in pub(self.obj):\n",
    "#                 try:\n",
    "#                     self._attrs[k] = ObjGraph(getattr(self.obj, k))\n",
    "#                 except Exception as e:\n",
    "#                     print(f\"wut exn? {e!r}\")\n",
    "#         return self._attrs\n",
    "\n",
    "#     def get_graph(self, graph=None, path=None, depth=1):\n",
    "#         graph = graph or graphviz.Digraph()\n",
    "#         path = path or [\"o\"]\n",
    "#         self_pathstr = \".\".join(path)\n",
    "\n",
    "#         if depth == 0:\n",
    "#             graph.node(self_pathstr, label=f\"{path[-1]} ...\")\n",
    "#             return graph\n",
    "\n",
    "#         graph.node(self_pathstr, label=f\"{path[-1]}\")\n",
    "#         # graph.node(self_pathstr, label=f\"{path[-1]} ({type(self.obj)})\")\n",
    "#         for k, v in self.attrs().items():\n",
    "#             path_ = [*path, k]\n",
    "#             attr_pathstr = \".\".join(path_)\n",
    "#             graph.edge(self_pathstr, attr_pathstr)\n",
    "#             v.get_graph(graph=graph, path=path_, depth=depth-1)\n",
    "#         return graph"
   ]
  },
  {
   "cell_type": "code",
   "execution_count": 256,
   "id": "32fc852f-1c96-454b-8293-28e29421c39c",
   "metadata": {},
   "outputs": [
    {
     "data": {
      "text/plain": [
       "['call_and_return_all_conditional_losses',\n",
       " 'keras_api',\n",
       " 'regularization_losses',\n",
       " 'trainable_variables',\n",
       " 'variables']"
      ]
     },
     "execution_count": 256,
     "metadata": {},
     "output_type": "execute_result"
    }
   ],
   "source": [
    "pub(m.model.tft_layer)"
   ]
  },
  {
   "cell_type": "code",
   "execution_count": 160,
   "id": "57e7ec04-a699-4fe0-9adf-cf0bd711a562",
   "metadata": {},
   "outputs": [
    {
     "data": {
      "text/plain": [
       "{'concrete_functions': list,\n",
       " 'experimental_get_compiler_ir': method,\n",
       " 'experimental_get_tracing_count': method,\n",
       " 'function_spec': tensorflow.python.eager.function_spec.FunctionSpec,\n",
       " 'get_concrete_function': method,\n",
       " 'get_initialization_function': method,\n",
       " 'input_signature': tuple,\n",
       " 'name': str,\n",
       " 'pretty_printed_concrete_signatures': method,\n",
       " 'python_function': function}"
      ]
     },
     "execution_count": 160,
     "metadata": {},
     "output_type": "execute_result"
    }
   ],
   "source": [
    "pub_t(m.infer_raw)"
   ]
  },
  {
   "cell_type": "code",
   "execution_count": 150,
   "id": "5f2847b3-f290-48ba-8a69-6afc69e9c352",
   "metadata": {},
   "outputs": [
    {
     "data": {
      "text/plain": [
       "{'concrete_functions': [<ConcreteFunction infer_raw(raw_features) at 0x2A61E5B10>],\n",
       " 'experimental_get_compiler_ir': <bound method Function.experimental_get_compiler_ir of <tensorflow.python.saved_model.function_deserialization.RestoredFunction object at 0x2b38da530>>,\n",
       " 'experimental_get_tracing_count': <bound method Function.experimental_get_tracing_count of <tensorflow.python.saved_model.function_deserialization.RestoredFunction object at 0x2b38da530>>,\n",
       " 'function_spec': <tensorflow.python.eager.function_spec.FunctionSpec at 0x2b38d9000>,\n",
       " 'get_concrete_function': <bound method Function.get_concrete_function of <tensorflow.python.saved_model.function_deserialization.RestoredFunction object at 0x2b38da530>>,\n",
       " 'get_initialization_function': <bound method Function.get_initialization_function of <tensorflow.python.saved_model.function_deserialization.RestoredFunction object at 0x2b38da530>>,\n",
       " 'input_signature': ({'coalesced_noncommercial_age': TensorSpec(shape=(None,), dtype=tf.float32, name=None),\n",
       "   'cps_age_bucket_18_to_34': TensorSpec(shape=(None,), dtype=tf.float32, name=None),\n",
       "   'cps_age_bucket_35_to_49': TensorSpec(shape=(None,), dtype=tf.float32, name=None),\n",
       "   'cps_age_bucket_50_to_64': TensorSpec(shape=(None,), dtype=tf.float32, name=None),\n",
       "   'cps_age_bucket_65_and_over': TensorSpec(shape=(None,), dtype=tf.float32, name=None),\n",
       "   'cps_education_advanced_degree': TensorSpec(shape=(None,), dtype=tf.float32, name=None),\n",
       "   'cps_education_associates_degree': TensorSpec(shape=(None,), dtype=tf.float32, name=None),\n",
       "   'cps_education_bachelors_degree': TensorSpec(shape=(None,), dtype=tf.float32, name=None),\n",
       "   'cps_education_high_school_graduate': TensorSpec(shape=(None,), dtype=tf.float32, name=None),\n",
       "   'cps_education_less_than_high_school': TensorSpec(shape=(None,), dtype=tf.float32, name=None),\n",
       "   'cps_education_some_college': TensorSpec(shape=(None,), dtype=tf.float32, name=None),\n",
       "   'cps_income_between_100k_150k': TensorSpec(shape=(None,), dtype=tf.float32, name=None),\n",
       "   'cps_income_between_25k_50k': TensorSpec(shape=(None,), dtype=tf.float32, name=None),\n",
       "   'cps_income_between_50k_75k': TensorSpec(shape=(None,), dtype=tf.float32, name=None),\n",
       "   'cps_income_between_75k_100k': TensorSpec(shape=(None,), dtype=tf.float32, name=None),\n",
       "   'cps_income_over_150k': TensorSpec(shape=(None,), dtype=tf.float32, name=None),\n",
       "   'cps_income_under_25k': TensorSpec(shape=(None,), dtype=tf.float32, name=None),\n",
       "   'data_quality_flag': TensorSpec(shape=(None,), dtype=tf.float32, name=None),\n",
       "   'data_quality_score': TensorSpec(shape=(None,), dtype=tf.float32, name=None),\n",
       "   'data_quality_score_2': TensorSpec(shape=(None,), dtype=tf.float32, name=None),\n",
       "   'gss_bible_bible_is_book_of_fables': TensorSpec(shape=(None,), dtype=tf.float32, name=None),\n",
       "   'gss_bible_bible_is_inspired_by_god': TensorSpec(shape=(None,), dtype=tf.float32, name=None),\n",
       "   'gss_bible_bible_is_word_of_god': TensorSpec(shape=(None,), dtype=tf.float32, name=None),\n",
       "   'gss_sexual_orientation_new_bisexual': TensorSpec(shape=(None,), dtype=tf.float32, name=None),\n",
       "   'gss_sexual_orientation_new_gay_lesbian_homosexual': TensorSpec(shape=(None,), dtype=tf.float32, name=None),\n",
       "   'gss_sexual_orientation_new_heterosexual_or_straight': TensorSpec(shape=(None,), dtype=tf.float32, name=None),\n",
       "   'gss_spanking_agree': TensorSpec(shape=(None,), dtype=tf.float32, name=None),\n",
       "   'gss_spanking_disagree': TensorSpec(shape=(None,), dtype=tf.float32, name=None),\n",
       "   'gss_spanking_strongly_agree': TensorSpec(shape=(None,), dtype=tf.float32, name=None),\n",
       "   'gss_spanking_strongly_disagree': TensorSpec(shape=(None,), dtype=tf.float32, name=None),\n",
       "   'gun_in_house_gun_in_house': TensorSpec(shape=(None,), dtype=tf.float32, name=None),\n",
       "   'hete_survey_number_a_1': TensorSpec(shape=(None,), dtype=tf.float32, name=None),\n",
       "   'hete_survey_number_b_2_5': TensorSpec(shape=(None,), dtype=tf.float32, name=None),\n",
       "   'hete_survey_number_c_5_50': TensorSpec(shape=(None,), dtype=tf.float32, name=None),\n",
       "   'hete_survey_number_d_over_50': TensorSpec(shape=(None,), dtype=tf.float32, name=None),\n",
       "   'partisanship_dem_logit': TensorSpec(shape=(None,), dtype=tf.float32, name=None),\n",
       "   'partisanship_dem_pr_noncommercial': TensorSpec(shape=(None,), dtype=tf.float32, name=None),\n",
       "   'potus2016_clinton': TensorSpec(shape=(None,), dtype=tf.float32, name=None),\n",
       "   'potus2016_did_not_vote': TensorSpec(shape=(None,), dtype=tf.float32, name=None),\n",
       "   'potus2016_other': TensorSpec(shape=(None,), dtype=tf.float32, name=None),\n",
       "   'potus2016_trump': TensorSpec(shape=(None,), dtype=tf.float32, name=None),\n",
       "   'potus2020_biden': TensorSpec(shape=(None,), dtype=tf.float32, name=None),\n",
       "   'potus2020_did_not_vote': TensorSpec(shape=(None,), dtype=tf.float32, name=None),\n",
       "   'potus2020_other': TensorSpec(shape=(None,), dtype=tf.float32, name=None),\n",
       "   'potus2020_trump': TensorSpec(shape=(None,), dtype=tf.float32, name=None),\n",
       "   'response_id': TensorSpec(shape=(None,), dtype=tf.int64, name=None),\n",
       "   'study_id': TensorSpec(shape=(None,), dtype=tf.int64, name=None),\n",
       "   'voterbase_id': TensorSpec(shape=(None,), dtype=tf.string, name=None),\n",
       "   'web_gender_female': TensorSpec(shape=(None,), dtype=tf.float32, name=None),\n",
       "   'web_race_a': TensorSpec(shape=(None,), dtype=tf.float32, name=None),\n",
       "   'web_race_b': TensorSpec(shape=(None,), dtype=tf.float32, name=None),\n",
       "   'web_race_h': TensorSpec(shape=(None,), dtype=tf.float32, name=None),\n",
       "   'web_race_n': TensorSpec(shape=(None,), dtype=tf.float32, name=None),\n",
       "   'web_race_w': TensorSpec(shape=(None,), dtype=tf.float32, name=None)},),\n",
       " 'name': 'restored_function_body',\n",
       " 'pretty_printed_concrete_signatures': <bound method Function.pretty_printed_concrete_signatures of <tensorflow.python.saved_model.function_deserialization.RestoredFunction object at 0x2b38da530>>,\n",
       " 'python_function': <function tensorflow.python.saved_model.function_deserialization.recreate_function.<locals>.restored_function_body(*args, **kwargs)>}"
      ]
     },
     "execution_count": 150,
     "metadata": {},
     "output_type": "execute_result"
    }
   ],
   "source": [
    "pub_v(m.infer_raw)"
   ]
  },
  {
   "cell_type": "code",
   "execution_count": 153,
   "id": "856ee916-013d-42de-8ee9-5aef9b9247d8",
   "metadata": {},
   "outputs": [
    {
     "name": "stdout",
     "output_type": "stream",
     "text": [
      "  def restored_function_body(*args, **kwargs):\n",
      "    \"\"\"Calls a restored function or raises an error if no matching function.\"\"\"\n",
      "    if not saved_function.concrete_functions:\n",
      "      raise ValueError(\"Found zero restored functions for caller function.\")\n",
      "    # This is the format of function.graph.structured_input_signature. At this\n",
      "    # point, the args and kwargs have already been canonicalized.\n",
      "    inputs = (args, kwargs)\n",
      "\n",
      "    # First try to find a concrete function that can be called without input\n",
      "    # conversions. This allows one to pick a more specific trace in case there\n",
      "    # was also a more expensive one that supported tensors.\n",
      "    for allow_conversion in [False, True]:\n",
      "      for function_name in saved_function.concrete_functions:\n",
      "        function = concrete_functions[function_name]\n",
      "        if _concrete_function_callable_with(function, inputs, allow_conversion):\n",
      "          return _call_concrete_function(function, inputs)\n",
      "\n",
      "    signature_descriptions = []\n",
      "\n",
      "    def _pretty_format_positional(positional):\n",
      "      return \"Positional arguments ({} total):\\n    * {}\".format(\n",
      "          len(positional),\n",
      "          \"\\n    * \".join(pprint.pformat(a) for a in positional))\n",
      "\n",
      "    for index, function_name in enumerate(saved_function.concrete_functions):\n",
      "      concrete_function = concrete_functions[function_name]\n",
      "      positional, keyword = concrete_function.structured_input_signature\n",
      "      signature_descriptions.append(\n",
      "          \"Option {}:\\n  {}\\n  Keyword arguments: {}\"\n",
      "          .format(index + 1, _pretty_format_positional(positional), keyword))\n",
      "    raise ValueError(\n",
      "        \"Could not find matching concrete function to call loaded from the \"\n",
      "        f\"SavedModel. Got:\\n  {_pretty_format_positional(args)}\\n  Keyword \"\n",
      "        f\"arguments: {kwargs}\\n\\n Expected these arguments to match one of the \"\n",
      "        f\"following {len(saved_function.concrete_functions)} option(s):\\n\\n\"\n",
      "        f\"{(chr(10)+chr(10)).join(signature_descriptions)}\")\n",
      "\n"
     ]
    }
   ],
   "source": [
    "print(inspect.getsource(m.infer_raw.python_function))"
   ]
  },
  {
   "cell_type": "code",
   "execution_count": 166,
   "id": "3af0fb67-08ef-4bd5-b53b-2a036933698c",
   "metadata": {},
   "outputs": [
    {
     "data": {
      "text/plain": [
       "1"
      ]
     },
     "execution_count": 166,
     "metadata": {},
     "output_type": "execute_result"
    }
   ],
   "source": [
    "len(m.infer_raw.concrete_functions)"
   ]
  },
  {
   "cell_type": "code",
   "execution_count": 170,
   "id": "d11ebede-1124-4c17-b397-ac3afb7de4e3",
   "metadata": {},
   "outputs": [
    {
     "data": {
      "text/plain": [
       "{'add_gradient_functions_to_graph': method,\n",
       " 'add_to_graph': method,\n",
       " 'captured_inputs': list,\n",
       " 'function_def': tensorflow.core.framework.function_pb2.FunctionDef,\n",
       " 'graph': tensorflow.python.framework.func_graph.FuncGraph,\n",
       " 'inputs': list,\n",
       " 'name': bytes,\n",
       " 'output_dtypes': dict,\n",
       " 'output_shapes': dict,\n",
       " 'outputs': list,\n",
       " 'pretty_printed_signature': method,\n",
       " 'replace_capture_with_deferred_capture': method,\n",
       " 'set_external_captures': method,\n",
       " 'set_variables': method,\n",
       " 'structured_input_signature': tuple,\n",
       " 'structured_outputs': dict,\n",
       " 'trainable_variables': tuple,\n",
       " 'variables': tuple}"
      ]
     },
     "execution_count": 170,
     "metadata": {},
     "output_type": "execute_result"
    }
   ],
   "source": [
    "pub_t(m.infer_raw.concrete_functions[0])"
   ]
  },
  {
   "cell_type": "code",
   "execution_count": 177,
   "id": "d843b700-e781-45a6-815e-7c956413d215",
   "metadata": {},
   "outputs": [
    {
     "data": {
      "text/plain": [
       "((), ())"
      ]
     },
     "execution_count": 177,
     "metadata": {},
     "output_type": "execute_result"
    }
   ],
   "source": [
    "m.infer_raw.concrete_functions[0].variables, m.infer_raw.concrete_functions[0].trainable_variables"
   ]
  },
  {
   "cell_type": "code",
   "execution_count": 191,
   "id": "107100e5-cc7c-4500-ac02-a266958f3d8e",
   "metadata": {},
   "outputs": [
    {
     "data": {
      "text/plain": [
       "15"
      ]
     },
     "execution_count": 191,
     "metadata": {},
     "output_type": "execute_result"
    }
   ],
   "source": [
    "len(m.infer_raw.concrete_functions[0].captured_inputs)"
   ]
  },
  {
   "cell_type": "code",
   "execution_count": 198,
   "id": "40977a38-0e13-403f-bd3d-f0a3f7511552",
   "metadata": {},
   "outputs": [
    {
     "data": {
      "text/plain": [
       "[TensorShape([]),\n",
       " TensorShape([]),\n",
       " TensorShape([]),\n",
       " TensorShape([]),\n",
       " TensorShape([]),\n",
       " TensorShape([]),\n",
       " TensorShape([]),\n",
       " TensorShape([48]),\n",
       " TensorShape([48]),\n",
       " TensorShape([8]),\n",
       " TensorShape([8]),\n",
       " TensorShape([80, 2455, 1]),\n",
       " TensorShape([80, 2455, 1]),\n",
       " TensorShape([80, 2503, 1, 3]),\n",
       " TensorShape([80, 2503, 1, 3])]"
      ]
     },
     "execution_count": 198,
     "metadata": {},
     "output_type": "execute_result"
    }
   ],
   "source": [
    "[x.shape for x in m.infer_raw.concrete_functions[0].captured_inputs]"
   ]
  },
  {
   "cell_type": "code",
   "execution_count": 201,
   "id": "e9842a13-9b42-41db-b49a-4facf50240c8",
   "metadata": {},
   "outputs": [
    {
     "data": {
      "text/plain": [
       "[1, 1, 1, 1, 1, 1, 1, 48, 48, 8, 8, 196400, 196400, 600720, 600720]"
      ]
     },
     "execution_count": 201,
     "metadata": {},
     "output_type": "execute_result"
    }
   ],
   "source": [
    "[tf.reduce_prod(x.shape).numpy() for x in m.infer_raw.concrete_functions[0].captured_inputs]"
   ]
  },
  {
   "cell_type": "code",
   "execution_count": 197,
   "id": "f784e4f9-b69f-49e1-8ef2-588c60c3069e",
   "metadata": {},
   "outputs": [
    {
     "data": {
      "text/plain": [
       "<tf.Tensor: shape=(8,), dtype=float32, numpy=\n",
       "array([0.04750447, 0.14416979, 0.17961112, 0.249956  , 0.17720549,\n",
       "       0.17285615, 0.24583994, 0.13794559], dtype=float32)>"
      ]
     },
     "execution_count": 197,
     "metadata": {},
     "output_type": "execute_result"
    }
   ],
   "source": [
    "m.infer_raw.concrete_functions[0].captured_inputs[10]"
   ]
  },
  {
   "cell_type": "code",
   "execution_count": 174,
   "id": "62ad3e12-8e72-4a09-8b27-e74095ab5ef4",
   "metadata": {},
   "outputs": [
    {
     "data": {
      "text/plain": [
       "(({'coalesced_noncommercial_age': TensorSpec(shape=(None,), dtype=tf.float32, name='raw_features/coalesced_noncommercial_age'),\n",
       "   'cps_age_bucket_18_to_34': TensorSpec(shape=(None,), dtype=tf.float32, name='raw_features/cps_age_bucket_18_to_34'),\n",
       "   'cps_age_bucket_35_to_49': TensorSpec(shape=(None,), dtype=tf.float32, name='raw_features/cps_age_bucket_35_to_49'),\n",
       "   'cps_age_bucket_50_to_64': TensorSpec(shape=(None,), dtype=tf.float32, name='raw_features/cps_age_bucket_50_to_64'),\n",
       "   'cps_age_bucket_65_and_over': TensorSpec(shape=(None,), dtype=tf.float32, name='raw_features/cps_age_bucket_65_and_over'),\n",
       "   'cps_education_advanced_degree': TensorSpec(shape=(None,), dtype=tf.float32, name='raw_features/cps_education_advanced_degree'),\n",
       "   'cps_education_associates_degree': TensorSpec(shape=(None,), dtype=tf.float32, name='raw_features/cps_education_associates_degree'),\n",
       "   'cps_education_bachelors_degree': TensorSpec(shape=(None,), dtype=tf.float32, name='raw_features/cps_education_bachelors_degree'),\n",
       "   'cps_education_high_school_graduate': TensorSpec(shape=(None,), dtype=tf.float32, name='raw_features/cps_education_high_school_graduate'),\n",
       "   'cps_education_less_than_high_school': TensorSpec(shape=(None,), dtype=tf.float32, name='raw_features/cps_education_less_than_high_school'),\n",
       "   'cps_education_some_college': TensorSpec(shape=(None,), dtype=tf.float32, name='raw_features/cps_education_some_college'),\n",
       "   'cps_income_between_100k_150k': TensorSpec(shape=(None,), dtype=tf.float32, name='raw_features/cps_income_between_100k_150k'),\n",
       "   'cps_income_between_25k_50k': TensorSpec(shape=(None,), dtype=tf.float32, name='raw_features/cps_income_between_25k_50k'),\n",
       "   'cps_income_between_50k_75k': TensorSpec(shape=(None,), dtype=tf.float32, name='raw_features/cps_income_between_50k_75k'),\n",
       "   'cps_income_between_75k_100k': TensorSpec(shape=(None,), dtype=tf.float32, name='raw_features/cps_income_between_75k_100k'),\n",
       "   'cps_income_over_150k': TensorSpec(shape=(None,), dtype=tf.float32, name='raw_features/cps_income_over_150k'),\n",
       "   'cps_income_under_25k': TensorSpec(shape=(None,), dtype=tf.float32, name='raw_features/cps_income_under_25k'),\n",
       "   'data_quality_flag': TensorSpec(shape=(None,), dtype=tf.float32, name='raw_features/data_quality_flag'),\n",
       "   'data_quality_score': TensorSpec(shape=(None,), dtype=tf.float32, name='raw_features/data_quality_score'),\n",
       "   'data_quality_score_2': TensorSpec(shape=(None,), dtype=tf.float32, name='raw_features/data_quality_score_2'),\n",
       "   'gss_bible_bible_is_book_of_fables': TensorSpec(shape=(None,), dtype=tf.float32, name='raw_features/gss_bible_bible_is_book_of_fables'),\n",
       "   'gss_bible_bible_is_inspired_by_god': TensorSpec(shape=(None,), dtype=tf.float32, name='raw_features/gss_bible_bible_is_inspired_by_god'),\n",
       "   'gss_bible_bible_is_word_of_god': TensorSpec(shape=(None,), dtype=tf.float32, name='raw_features/gss_bible_bible_is_word_of_god'),\n",
       "   'gss_sexual_orientation_new_bisexual': TensorSpec(shape=(None,), dtype=tf.float32, name='raw_features/gss_sexual_orientation_new_bisexual'),\n",
       "   'gss_sexual_orientation_new_gay_lesbian_homosexual': TensorSpec(shape=(None,), dtype=tf.float32, name='raw_features/gss_sexual_orientation_new_gay_lesbian_homosexual'),\n",
       "   'gss_sexual_orientation_new_heterosexual_or_straight': TensorSpec(shape=(None,), dtype=tf.float32, name='raw_features/gss_sexual_orientation_new_heterosexual_or_straight'),\n",
       "   'gss_spanking_agree': TensorSpec(shape=(None,), dtype=tf.float32, name='raw_features/gss_spanking_agree'),\n",
       "   'gss_spanking_disagree': TensorSpec(shape=(None,), dtype=tf.float32, name='raw_features/gss_spanking_disagree'),\n",
       "   'gss_spanking_strongly_agree': TensorSpec(shape=(None,), dtype=tf.float32, name='raw_features/gss_spanking_strongly_agree'),\n",
       "   'gss_spanking_strongly_disagree': TensorSpec(shape=(None,), dtype=tf.float32, name='raw_features/gss_spanking_strongly_disagree'),\n",
       "   'gun_in_house_gun_in_house': TensorSpec(shape=(None,), dtype=tf.float32, name='raw_features/gun_in_house_gun_in_house'),\n",
       "   'hete_survey_number_a_1': TensorSpec(shape=(None,), dtype=tf.float32, name='raw_features/hete_survey_number_a_1'),\n",
       "   'hete_survey_number_b_2_5': TensorSpec(shape=(None,), dtype=tf.float32, name='raw_features/hete_survey_number_b_2_5'),\n",
       "   'hete_survey_number_c_5_50': TensorSpec(shape=(None,), dtype=tf.float32, name='raw_features/hete_survey_number_c_5_50'),\n",
       "   'hete_survey_number_d_over_50': TensorSpec(shape=(None,), dtype=tf.float32, name='raw_features/hete_survey_number_d_over_50'),\n",
       "   'partisanship_dem_logit': TensorSpec(shape=(None,), dtype=tf.float32, name='raw_features/partisanship_dem_logit'),\n",
       "   'partisanship_dem_pr_noncommercial': TensorSpec(shape=(None,), dtype=tf.float32, name='raw_features/partisanship_dem_pr_noncommercial'),\n",
       "   'potus2016_clinton': TensorSpec(shape=(None,), dtype=tf.float32, name='raw_features/potus2016_clinton'),\n",
       "   'potus2016_did_not_vote': TensorSpec(shape=(None,), dtype=tf.float32, name='raw_features/potus2016_did_not_vote'),\n",
       "   'potus2016_other': TensorSpec(shape=(None,), dtype=tf.float32, name='raw_features/potus2016_other'),\n",
       "   'potus2016_trump': TensorSpec(shape=(None,), dtype=tf.float32, name='raw_features/potus2016_trump'),\n",
       "   'potus2020_biden': TensorSpec(shape=(None,), dtype=tf.float32, name='raw_features/potus2020_biden'),\n",
       "   'potus2020_did_not_vote': TensorSpec(shape=(None,), dtype=tf.float32, name='raw_features/potus2020_did_not_vote'),\n",
       "   'potus2020_other': TensorSpec(shape=(None,), dtype=tf.float32, name='raw_features/potus2020_other'),\n",
       "   'potus2020_trump': TensorSpec(shape=(None,), dtype=tf.float32, name='raw_features/potus2020_trump'),\n",
       "   'response_id': TensorSpec(shape=(None,), dtype=tf.int64, name='raw_features/response_id'),\n",
       "   'study_id': TensorSpec(shape=(None,), dtype=tf.int64, name='raw_features/study_id'),\n",
       "   'voterbase_id': TensorSpec(shape=(None,), dtype=tf.string, name='raw_features/voterbase_id'),\n",
       "   'web_gender_female': TensorSpec(shape=(None,), dtype=tf.float32, name='raw_features/web_gender_female'),\n",
       "   'web_race_a': TensorSpec(shape=(None,), dtype=tf.float32, name='raw_features/web_race_a'),\n",
       "   'web_race_b': TensorSpec(shape=(None,), dtype=tf.float32, name='raw_features/web_race_b'),\n",
       "   'web_race_h': TensorSpec(shape=(None,), dtype=tf.float32, name='raw_features/web_race_h'),\n",
       "   'web_race_n': TensorSpec(shape=(None,), dtype=tf.float32, name='raw_features/web_race_n'),\n",
       "   'web_race_w': TensorSpec(shape=(None,), dtype=tf.float32, name='raw_features/web_race_w')},),\n",
       " {})"
      ]
     },
     "execution_count": 174,
     "metadata": {},
     "output_type": "execute_result"
    }
   ],
   "source": [
    "m.infer_raw.concrete_functions[0].structured_input_signature"
   ]
  },
  {
   "cell_type": "code",
   "execution_count": 164,
   "id": "e9dcb15f-0112-44a7-a8d3-ca81634c82f2",
   "metadata": {},
   "outputs": [
    {
     "name": "stdout",
     "output_type": "stream",
     "text": [
      "restored_function_body(raw_features)\n",
      "  Args:\n",
      "    raw_features: {'coalesced_noncommercial_age': <1>, 'cps_age_bucket_18_to_34': <2>, 'cps_age_bucket_35_to_49': <3>, 'cps_age_bucket_50_to_64': <4>, 'cps_age_bucket_65_and_over': <5>, 'cps_education_advanced_degree': <6>, 'cps_education_associates_degree': <7>, 'cps_education_bachelors_degree': <8>, 'cps_education_high_school_graduate': <9>, 'cps_education_less_than_high_school': <10>, 'cps_education_some_college': <11>, 'cps_income_between_100k_150k': <12>, 'cps_income_between_25k_50k': <13>, 'cps_income_between_50k_75k': <14>, 'cps_income_between_75k_100k': <15>, 'cps_income_over_150k': <16>, 'cps_income_under_25k': <17>, 'data_quality_flag': <18>, 'data_quality_score': <19>, 'data_quality_score_2': <20>, 'gss_bible_bible_is_book_of_fables': <21>, 'gss_bible_bible_is_inspired_by_god': <22>, 'gss_bible_bible_is_word_of_god': <23>, 'gss_sexual_orientation_new_bisexual': <24>, 'gss_sexual_orientation_new_gay_lesbian_homosexual': <25>, 'gss_sexual_orientation_new_heterosexual_or_straight': <26>, 'gss_spanking_agree': <27>, 'gss_spanking_disagree': <28>, 'gss_spanking_strongly_agree': <29>, 'gss_spanking_strongly_disagree': <30>, 'gun_in_house_gun_in_house': <31>, 'hete_survey_number_a_1': <32>, 'hete_survey_number_b_2_5': <33>, 'hete_survey_number_c_5_50': <34>, 'hete_survey_number_d_over_50': <35>, 'partisanship_dem_logit': <36>, 'partisanship_dem_pr_noncommercial': <37>, 'potus2016_clinton': <38>, 'potus2016_did_not_vote': <39>, 'potus2016_other': <40>, 'potus2016_trump': <41>, 'potus2020_biden': <42>, 'potus2020_did_not_vote': <43>, 'potus2020_other': <44>, 'potus2020_trump': <45>, 'response_id': <46>, 'study_id': <47>, 'voterbase_id': <48>, 'web_gender_female': <49>, 'web_race_a': <50>, 'web_race_b': <51>, 'web_race_h': <52>, 'web_race_n': <53>, 'web_race_w': <54>}\n",
      "      <1>: float32 Tensor, shape=(None,)\n",
      "      <2>: float32 Tensor, shape=(None,)\n",
      "      <3>: float32 Tensor, shape=(None,)\n",
      "      <4>: float32 Tensor, shape=(None,)\n",
      "      <5>: float32 Tensor, shape=(None,)\n",
      "      <6>: float32 Tensor, shape=(None,)\n",
      "      <7>: float32 Tensor, shape=(None,)\n",
      "      <8>: float32 Tensor, shape=(None,)\n",
      "      <9>: float32 Tensor, shape=(None,)\n",
      "      <10>: float32 Tensor, shape=(None,)\n",
      "      <11>: float32 Tensor, shape=(None,)\n",
      "      <12>: float32 Tensor, shape=(None,)\n",
      "      <13>: float32 Tensor, shape=(None,)\n",
      "      <14>: float32 Tensor, shape=(None,)\n",
      "      <15>: float32 Tensor, shape=(None,)\n",
      "      <16>: float32 Tensor, shape=(None,)\n",
      "      <17>: float32 Tensor, shape=(None,)\n",
      "      <18>: float32 Tensor, shape=(None,)\n",
      "      <19>: float32 Tensor, shape=(None,)\n",
      "      <20>: float32 Tensor, shape=(None,)\n",
      "      <21>: float32 Tensor, shape=(None,)\n",
      "      <22>: float32 Tensor, shape=(None,)\n",
      "      <23>: float32 Tensor, shape=(None,)\n",
      "      <24>: float32 Tensor, shape=(None,)\n",
      "      <25>: float32 Tensor, shape=(None,)\n",
      "      <26>: float32 Tensor, shape=(None,)\n",
      "      <27>: float32 Tensor, shape=(None,)\n",
      "      <28>: float32 Tensor, shape=(None,)\n",
      "      <29>: float32 Tensor, shape=(None,)\n",
      "      <30>: float32 Tensor, shape=(None,)\n",
      "      <31>: float32 Tensor, shape=(None,)\n",
      "      <32>: float32 Tensor, shape=(None,)\n",
      "      <33>: float32 Tensor, shape=(None,)\n",
      "      <34>: float32 Tensor, shape=(None,)\n",
      "      <35>: float32 Tensor, shape=(None,)\n",
      "      <36>: float32 Tensor, shape=(None,)\n",
      "      <37>: float32 Tensor, shape=(None,)\n",
      "      <38>: float32 Tensor, shape=(None,)\n",
      "      <39>: float32 Tensor, shape=(None,)\n",
      "      <40>: float32 Tensor, shape=(None,)\n",
      "      <41>: float32 Tensor, shape=(None,)\n",
      "      <42>: float32 Tensor, shape=(None,)\n",
      "      <43>: float32 Tensor, shape=(None,)\n",
      "      <44>: float32 Tensor, shape=(None,)\n",
      "      <45>: float32 Tensor, shape=(None,)\n",
      "      <46>: int64 Tensor, shape=(None,)\n",
      "      <47>: int64 Tensor, shape=(None,)\n",
      "      <48>: string Tensor, shape=(None,)\n",
      "      <49>: float32 Tensor, shape=(None,)\n",
      "      <50>: float32 Tensor, shape=(None,)\n",
      "      <51>: float32 Tensor, shape=(None,)\n",
      "      <52>: float32 Tensor, shape=(None,)\n",
      "      <53>: float32 Tensor, shape=(None,)\n",
      "      <54>: float32 Tensor, shape=(None,)\n",
      "  Returns:\n",
      "    {'issue': <1>, 'maxdiff_score': <2>, 'response_id': <3>, 'study_id': <4>, 'voterbase_id': <5>}\n",
      "      <1>: string Tensor, shape=(None,)\n",
      "      <2>: float32 Tensor, shape=(None,)\n",
      "      <3>: int64 Tensor, shape=(None,)\n",
      "      <4>: int64 Tensor, shape=(None,)\n",
      "      <5>: string Tensor, shape=(None,)\n"
     ]
    }
   ],
   "source": [
    "print(m.infer_raw.pretty_printed_concrete_signatures())"
   ]
  },
  {
   "cell_type": "code",
   "execution_count": 219,
   "id": "7695a9ea-06fc-4cc4-b12c-e18fa6c9469e",
   "metadata": {},
   "outputs": [
    {
     "data": {
      "text/plain": [
       "['concrete_functions',\n",
       " 'experimental_get_compiler_ir',\n",
       " 'experimental_get_tracing_count',\n",
       " 'function_spec',\n",
       " 'get_concrete_function',\n",
       " 'get_initialization_function',\n",
       " 'input_signature',\n",
       " 'name',\n",
       " 'pretty_printed_concrete_signatures',\n",
       " 'python_function']"
      ]
     },
     "execution_count": 219,
     "metadata": {},
     "output_type": "execute_result"
    }
   ],
   "source": [
    "pub(m.infer_raw)"
   ]
  },
  {
   "cell_type": "code",
   "execution_count": 225,
   "id": "2db8167e-a691-4980-8984-0f5f53dbc628",
   "metadata": {},
   "outputs": [
    {
     "name": "stdout",
     "output_type": "stream",
     "text": [
      "  def restored_function_body(*args, **kwargs):\n",
      "    \"\"\"Calls a restored function or raises an error if no matching function.\"\"\"\n",
      "    if not saved_function.concrete_functions:\n",
      "      raise ValueError(\"Found zero restored functions for caller function.\")\n",
      "    # This is the format of function.graph.structured_input_signature. At this\n",
      "    # point, the args and kwargs have already been canonicalized.\n",
      "    inputs = (args, kwargs)\n",
      "\n",
      "    # First try to find a concrete function that can be called without input\n",
      "    # conversions. This allows one to pick a more specific trace in case there\n",
      "    # was also a more expensive one that supported tensors.\n",
      "    for allow_conversion in [False, True]:\n",
      "      for function_name in saved_function.concrete_functions:\n",
      "        function = concrete_functions[function_name]\n",
      "        if _concrete_function_callable_with(function, inputs, allow_conversion):\n",
      "          return _call_concrete_function(function, inputs)\n",
      "\n",
      "    signature_descriptions = []\n",
      "\n",
      "    def _pretty_format_positional(positional):\n",
      "      return \"Positional arguments ({} total):\\n    * {}\".format(\n",
      "          len(positional),\n",
      "          \"\\n    * \".join(pprint.pformat(a) for a in positional))\n",
      "\n",
      "    for index, function_name in enumerate(saved_function.concrete_functions):\n",
      "      concrete_function = concrete_functions[function_name]\n",
      "      positional, keyword = concrete_function.structured_input_signature\n",
      "      signature_descriptions.append(\n",
      "          \"Option {}:\\n  {}\\n  Keyword arguments: {}\"\n",
      "          .format(index + 1, _pretty_format_positional(positional), keyword))\n",
      "    raise ValueError(\n",
      "        \"Could not find matching concrete function to call loaded from the \"\n",
      "        f\"SavedModel. Got:\\n  {_pretty_format_positional(args)}\\n  Keyword \"\n",
      "        f\"arguments: {kwargs}\\n\\n Expected these arguments to match one of the \"\n",
      "        f\"following {len(saved_function.concrete_functions)} option(s):\\n\\n\"\n",
      "        f\"{(chr(10)+chr(10)).join(signature_descriptions)}\")\n",
      "\n"
     ]
    }
   ],
   "source": [
    "print(inspect.getsource(m.infer_raw.python_function))"
   ]
  },
  {
   "cell_type": "code",
   "execution_count": 235,
   "id": "f18ac201-5eae-45c6-a6cd-b197f3225100",
   "metadata": {},
   "outputs": [
    {
     "ename": "ValueError",
     "evalue": "Compiler IR can only be returned for functions marked with 'jit_compile=True'",
     "output_type": "error",
     "traceback": [
      "\u001b[0;31m---------------------------------------------------------------------------\u001b[0m",
      "\u001b[0;31mValueError\u001b[0m                                Traceback (most recent call last)",
      "Input \u001b[0;32mIn [235]\u001b[0m, in \u001b[0;36m<cell line: 1>\u001b[0;34m()\u001b[0m\n\u001b[0;32m----> 1\u001b[0m \u001b[43mm\u001b[49m\u001b[38;5;241;43m.\u001b[39;49m\u001b[43minfer_raw\u001b[49m\u001b[38;5;241;43m.\u001b[39;49m\u001b[43mexperimental_get_compiler_ir\u001b[49m\u001b[43m(\u001b[49m\u001b[43m)\u001b[49m\n",
      "File \u001b[0;32m~/src/dogsci/tf0/venv/lib/python3.10/site-packages/tensorflow/python/eager/def_function.py:1018\u001b[0m, in \u001b[0;36mFunction.experimental_get_compiler_ir\u001b[0;34m(self, *args, **kwargs)\u001b[0m\n\u001b[1;32m   1016\u001b[0m context\u001b[38;5;241m.\u001b[39mensure_initialized()\n\u001b[1;32m   1017\u001b[0m \u001b[38;5;28;01mif\u001b[39;00m \u001b[38;5;129;01mnot\u001b[39;00m \u001b[38;5;28mself\u001b[39m\u001b[38;5;241m.\u001b[39m_jit_compile:\n\u001b[0;32m-> 1018\u001b[0m   \u001b[38;5;28;01mraise\u001b[39;00m \u001b[38;5;167;01mValueError\u001b[39;00m(\u001b[38;5;124m\"\u001b[39m\u001b[38;5;124mCompiler IR can only be returned for functions marked \u001b[39m\u001b[38;5;124m\"\u001b[39m\n\u001b[1;32m   1019\u001b[0m                    \u001b[38;5;124m\"\u001b[39m\u001b[38;5;124mwith \u001b[39m\u001b[38;5;124m'\u001b[39m\u001b[38;5;124mjit_compile=True\u001b[39m\u001b[38;5;124m'\u001b[39m\u001b[38;5;124m\"\u001b[39m)\n\u001b[1;32m   1021\u001b[0m concrete_fn \u001b[38;5;241m=\u001b[39m \u001b[38;5;28mself\u001b[39m\u001b[38;5;241m.\u001b[39mget_concrete_function(\u001b[38;5;241m*\u001b[39margs, \u001b[38;5;241m*\u001b[39m\u001b[38;5;241m*\u001b[39mkwargs)\n\u001b[1;32m   1022\u001b[0m fn_name \u001b[38;5;241m=\u001b[39m concrete_fn\u001b[38;5;241m.\u001b[39mname\n",
      "\u001b[0;31mValueError\u001b[0m: Compiler IR can only be returned for functions marked with 'jit_compile=True'"
     ]
    }
   ],
   "source": [
    "m.infer_raw.experimental_get_compiler_ir()"
   ]
  },
  {
   "cell_type": "code",
   "execution_count": 202,
   "id": "1da5cc86-15cc-48cd-8b44-6c8e03c913ac",
   "metadata": {},
   "outputs": [],
   "source": [
    "# tft model\n",
    "os.chdir('/Users/j/tmp/maxdiff_serving_stuff/prod_20220526_1414_bc1fca90-b95f-4ac9-b297-dd35a3a5bcc0/ApprovalBidenDv_d_maxdiff/tft/transform_fn/')"
   ]
  },
  {
   "cell_type": "code",
   "execution_count": 203,
   "id": "277d4525-142e-4376-b5c9-2e60cc873d7e",
   "metadata": {},
   "outputs": [
    {
     "name": "stderr",
     "output_type": "stream",
     "text": [
      "2022-05-30 21:26:23.823085: I tensorflow/core/grappler/optimizers/custom_graph_optimizer_registry.cc:113] Plugin optimizer for device_type GPU is enabled.\n",
      "2022-05-30 21:26:23.829231: I tensorflow/core/grappler/optimizers/custom_graph_optimizer_registry.cc:113] Plugin optimizer for device_type GPU is enabled.\n"
     ]
    }
   ],
   "source": [
    "tftm = tf.saved_model.load('.')"
   ]
  },
  {
   "cell_type": "code",
   "execution_count": 205,
   "id": "f9a97566-5d0d-48ac-9c11-86a76868001a",
   "metadata": {},
   "outputs": [
    {
     "data": {
      "text/plain": [
       "{'assets': ListWrapper([<tensorflow.python.training.tracking.asset.Asset object at 0x16a5ff040>]),\n",
       " 'created_variables': ListWrapper([]),\n",
       " 'graph_debug_info': ,\n",
       " 'initializers': ListWrapper([<tensorflow.python.saved_model.load.Loader._recreate_base_user_object.<locals>._UserObject object at 0x1678ac370>, <tensorflow.python.saved_model.load.Loader._recreate_base_user_object.<locals>._UserObject object at 0x1678ae920>]),\n",
       " 'resources': ListWrapper([<tensorflow.python.training.tracking.resource.RestoredResource object at 0x1697238b0>, <tensorflow.python.training.tracking.resource.RestoredResource object at 0x169722080>]),\n",
       " 'signatures': _SignatureMap({'serving_default': <ConcreteFunction signature_wrapper(*, inputs, inputs_1, inputs_10, inputs_11, inputs_12, inputs_13, inputs_14, inputs_15, inputs_16, inputs_17, inputs_18, inputs_19, inputs_2, inputs_20, inputs_21, inputs_22, inputs_23, inputs_24, inputs_25, inputs_26, inputs_27, inputs_28, inputs_29, inputs_3, inputs_30, inputs_31, inputs_32, inputs_33, inputs_34, inputs_35, inputs_36, inputs_37, inputs_38, inputs_39, inputs_4, inputs_40, inputs_41, inputs_42, inputs_43, inputs_44, inputs_45, inputs_46, inputs_47, inputs_48, inputs_49, inputs_5, inputs_50, inputs_51, inputs_52, inputs_53, inputs_54, inputs_55, inputs_56, inputs_6, inputs_7, inputs_8, inputs_9) at 0x29EC60370>}),\n",
       " 'tensorflow_git_version': 'v2.6.0-rc2-32-g919f693420e',\n",
       " 'tensorflow_version': '2.6.0',\n",
       " 'trackable_objects': ListWrapper([]),\n",
       " 'transform_fn': <ConcreteFunction pruned(inputs, inputs_1, inputs_2, inputs_3, inputs_4, inputs_5, inputs_6, inputs_7, inputs_8, inputs_9, inputs_10, inputs_11, inputs_12, inputs_13, inputs_14, inputs_15, inputs_16, inputs_17, inputs_18, inputs_19, inputs_20, inputs_21, inputs_22, inputs_23, inputs_24, inputs_25, inputs_26, inputs_27, inputs_28, inputs_29, inputs_30, inputs_31, inputs_32, inputs_33, inputs_34, inputs_35, inputs_36, inputs_37, inputs_38, inputs_39, inputs_40, inputs_41, inputs_42, inputs_43, inputs_44, inputs_45, inputs_46, inputs_47, inputs_48, inputs_49, inputs_50, inputs_51, inputs_52, inputs_53, inputs_54, inputs_55, inputs_56) at 0x2A36F3F70>}"
      ]
     },
     "execution_count": 205,
     "metadata": {},
     "output_type": "execute_result"
    }
   ],
   "source": [
    "pub_v(tftm)"
   ]
  },
  {
   "cell_type": "code",
   "execution_count": 211,
   "id": "6e04e689-a7a2-4459-bedc-04d760c40332",
   "metadata": {},
   "outputs": [
    {
     "data": {
      "text/plain": [
       "11"
      ]
     },
     "execution_count": 211,
     "metadata": {},
     "output_type": "execute_result"
    }
   ],
   "source": [
    "len(tftm.transform_fn.captured_inputs)"
   ]
  },
  {
   "cell_type": "code",
   "execution_count": 212,
   "id": "e2be90a9-6acc-4676-a2fb-1dfa865732fb",
   "metadata": {},
   "outputs": [
    {
     "data": {
      "text/plain": [
       "[<tf.Tensor: shape=(), dtype=int64, numpy=2455>,\n",
       " <tf.Tensor: shape=(), dtype=resource, value=<ResourceHandle(name=\"hash_table_tf.Tensor(b'/tmp/tmpmy2mm5i1/tftransform_tmp/issue_1', shape=(), dtype=string)_-2_-1_load_49893_50184\", device=\"/job:localhost/replica:0/task:0/device:CPU:0\", container=\"localhost\", type=\"tensorflow::lookup::LookupInterface\", dtype and shapes : \"[  ]\")>>,\n",
       " <tf.Tensor: shape=(), dtype=int64, numpy=-1>,\n",
       " <tf.Tensor: shape=(), dtype=int64, numpy=2455>,\n",
       " <tf.Tensor: shape=(), dtype=resource, value=<ResourceHandle(name=\"hash_table_tf.Tensor(b'/tmp/tmpmy2mm5i1/tftransform_tmp/issue_1', shape=(), dtype=string)_-2_-1_load_49893_50156\", device=\"/job:localhost/replica:0/task:0/device:CPU:0\", container=\"localhost\", type=\"tensorflow::lookup::LookupInterface\", dtype and shapes : \"[  ]\")>>,\n",
       " <tf.Tensor: shape=(), dtype=int64, numpy=-1>,\n",
       " <tf.Tensor: shape=(), dtype=int64, numpy=2455>,\n",
       " <tf.Tensor: shape=(48,), dtype=float32, numpy=\n",
       " array([0.29929712, 0.267552  , 0.2773335 , 0.2484738 , 0.20664074,\n",
       "        0.1297533 , 0.12359244, 0.22749972, 0.25647578, 0.03648386,\n",
       "        0.22619492, 0.12461004, 0.26489845, 0.17534253, 0.12159839,\n",
       "        0.08311012, 0.23044045, 0.6505687 , 0.2617485 , 0.4242065 ,\n",
       "        0.31404498, 0.0744083 , 0.05000513, 0.87558657, 0.35391402,\n",
       "        0.23671085, 0.17468433, 0.2346908 , 0.32049835, 0.23725422,\n",
       "        0.13875192, 0.3849394 , 0.23905446, 0.63851786, 0.39485794,\n",
       "        0.30743313, 0.05684439, 0.24086453, 0.5066294 , 0.23019515,\n",
       "        0.04092323, 0.22225223, 0.5644972 , 0.04020065, 0.1661295 ,\n",
       "        0.08089288, 0.01076971, 0.7020073 ], dtype=float32)>,\n",
       " <tf.Tensor: shape=(48,), dtype=float32, numpy=\n",
       " array([0.032961  , 0.1959679 , 0.20041962, 0.18673447, 0.16394052,\n",
       "        0.11291751, 0.10831742, 0.17574364, 0.19069584, 0.0351527 ,\n",
       "        0.17503087, 0.10908248, 0.19472738, 0.14459772, 0.10681234,\n",
       "        0.07620282, 0.17733783, 0.22732906, 0.19323628, 0.24425533,\n",
       "        0.21542051, 0.06887158, 0.04750447, 0.10893486, 0.22865896,\n",
       "        0.1806789 , 0.14416979, 0.17961112, 0.21777922, 0.18096486,\n",
       "        0.11950004, 0.23676118, 0.18190753, 0.05869659, 0.23894529,\n",
       "        0.21291804, 0.05361291, 0.18284887, 0.249956  , 0.17720549,\n",
       "        0.03924843, 0.17285615, 0.24583994, 0.03815359, 0.13794559,\n",
       "        0.07403527, 0.01039109, 0.20842353], dtype=float32)>,\n",
       " <tf.Tensor: shape=(8,), dtype=float32, numpy=\n",
       " array([0.05000513, 0.17468433, 0.2346908 , 0.5066294 , 0.23019515,\n",
       "        0.22225223, 0.5644972 , 0.1661295 ], dtype=float32)>,\n",
       " <tf.Tensor: shape=(8,), dtype=float32, numpy=\n",
       " array([0.04750447, 0.14416979, 0.17961112, 0.249956  , 0.17720549,\n",
       "        0.17285615, 0.24583994, 0.13794559], dtype=float32)>]"
      ]
     },
     "execution_count": 212,
     "metadata": {},
     "output_type": "execute_result"
    }
   ],
   "source": [
    "tftm.transform_fn.captured_inputs"
   ]
  },
  {
   "cell_type": "code",
   "execution_count": 214,
   "id": "6b812a45-f0ff-41eb-8f05-2210e07320a1",
   "metadata": {},
   "outputs": [
    {
     "data": {
      "text/plain": [
       "['add_gradient_functions_to_graph',\n",
       " 'add_to_graph',\n",
       " 'captured_inputs',\n",
       " 'function_def',\n",
       " 'graph',\n",
       " 'inputs',\n",
       " 'name',\n",
       " 'output_dtypes',\n",
       " 'output_shapes',\n",
       " 'outputs',\n",
       " 'pretty_printed_signature',\n",
       " 'replace_capture_with_deferred_capture',\n",
       " 'set_external_captures',\n",
       " 'set_variables',\n",
       " 'structured_input_signature',\n",
       " 'structured_outputs',\n",
       " 'trainable_variables',\n",
       " 'variables']"
      ]
     },
     "execution_count": 214,
     "metadata": {},
     "output_type": "execute_result"
    }
   ],
   "source": [
    "pub(tftm.transform_fn)"
   ]
  },
  {
   "cell_type": "code",
   "execution_count": 216,
   "id": "1e11df63-807e-48e0-af2a-2bbd15037ea7",
   "metadata": {},
   "outputs": [
    {
     "ename": "AssertionError",
     "evalue": "",
     "output_type": "error",
     "traceback": [
      "\u001b[0;31m---------------------------------------------------------------------------\u001b[0m",
      "\u001b[0;31mAssertionError\u001b[0m                            Traceback (most recent call last)",
      "Input \u001b[0;32mIn [216]\u001b[0m, in \u001b[0;36m<cell line: 1>\u001b[0;34m()\u001b[0m\n\u001b[0;32m----> 1\u001b[0m \u001b[38;5;28mprint\u001b[39m(\u001b[43mtftm\u001b[49m\u001b[38;5;241;43m.\u001b[39;49m\u001b[43mtransform_fn\u001b[49m\u001b[38;5;241;43m.\u001b[39;49m\u001b[43mpretty_printed_signature\u001b[49m\u001b[43m(\u001b[49m\u001b[43m)\u001b[49m)\n",
      "File \u001b[0;32m~/src/dogsci/tf0/venv/lib/python3.10/site-packages/tensorflow/python/eager/function.py:2304\u001b[0m, in \u001b[0;36mConcreteFunction.pretty_printed_signature\u001b[0;34m(self, verbose)\u001b[0m\n\u001b[1;32m   2301\u001b[0m   \u001b[38;5;28;01melse\u001b[39;00m:\n\u001b[1;32m   2302\u001b[0m     \u001b[38;5;28;01mreturn\u001b[39;00m \u001b[38;5;28mrepr\u001b[39m(spec)\n\u001b[0;32m-> 2304\u001b[0m lines \u001b[38;5;241m=\u001b[39m [\u001b[38;5;28;43mself\u001b[39;49m\u001b[38;5;241;43m.\u001b[39;49m\u001b[43m_structured_signature_summary\u001b[49m\u001b[43m(\u001b[49m\u001b[43mdefault_values\u001b[49m\u001b[38;5;241;43m=\u001b[39;49m\u001b[38;5;28;43;01mTrue\u001b[39;49;00m\u001b[43m)\u001b[49m]\n\u001b[1;32m   2305\u001b[0m arg_specs, kwarg_specs \u001b[38;5;241m=\u001b[39m \u001b[38;5;28mself\u001b[39m\u001b[38;5;241m.\u001b[39mstructured_input_signature\n\u001b[1;32m   2306\u001b[0m names \u001b[38;5;241m=\u001b[39m \u001b[38;5;28mlist\u001b[39m(\u001b[38;5;28mself\u001b[39m\u001b[38;5;241m.\u001b[39m_function_spec\u001b[38;5;241m.\u001b[39marg_names)\n",
      "File \u001b[0;32m~/src/dogsci/tf0/venv/lib/python3.10/site-packages/tensorflow/python/eager/function.py:2247\u001b[0m, in \u001b[0;36mConcreteFunction._structured_signature_summary\u001b[0;34m(self, default_values)\u001b[0m\n\u001b[1;32m   2237\u001b[0m \u001b[38;5;124;03m\"\"\"Returns a string summarizing this function's structured signature.\u001b[39;00m\n\u001b[1;32m   2238\u001b[0m \n\u001b[1;32m   2239\u001b[0m \u001b[38;5;124;03mArgs:\u001b[39;00m\n\u001b[0;32m   (...)\u001b[0m\n\u001b[1;32m   2243\u001b[0m \u001b[38;5;124;03m  A `string`.\u001b[39;00m\n\u001b[1;32m   2244\u001b[0m \u001b[38;5;124;03m\"\"\"\u001b[39;00m\n\u001b[1;32m   2245\u001b[0m \u001b[38;5;66;03m# Note: we can't just use self._funcion_spec.signature_summary(), because\u001b[39;00m\n\u001b[1;32m   2246\u001b[0m \u001b[38;5;66;03m# that would show \"_BOUND_VALUE\" as the default value for all arguments.\u001b[39;00m\n\u001b[0;32m-> 2247\u001b[0m \u001b[38;5;28;01massert\u001b[39;00m \u001b[38;5;28mself\u001b[39m\u001b[38;5;241m.\u001b[39m_function_spec \u001b[38;5;129;01mis\u001b[39;00m \u001b[38;5;129;01mnot\u001b[39;00m \u001b[38;5;28;01mNone\u001b[39;00m\n\u001b[1;32m   2248\u001b[0m arg_specs, kwarg_specs \u001b[38;5;241m=\u001b[39m \u001b[38;5;28mself\u001b[39m\u001b[38;5;241m.\u001b[39mstructured_input_signature\n\u001b[1;32m   2249\u001b[0m arg_names \u001b[38;5;241m=\u001b[39m \u001b[38;5;28mlist\u001b[39m(\u001b[38;5;28mself\u001b[39m\u001b[38;5;241m.\u001b[39m_function_spec\u001b[38;5;241m.\u001b[39marg_names)\n",
      "\u001b[0;31mAssertionError\u001b[0m: "
     ]
    }
   ],
   "source": [
    "print(tftm.transform_fn.pretty_printed_signature())"
   ]
  },
  {
   "cell_type": "code",
   "execution_count": 236,
   "id": "875db604-d04c-4408-a9ce-e777e001fa0e",
   "metadata": {},
   "outputs": [],
   "source": [
    "%load_ext tensorboard"
   ]
  },
  {
   "cell_type": "markdown",
   "id": "6658140a-86ab-4cfa-96e7-4e49b1e038f4",
   "metadata": {},
   "source": [
    "## tf.function"
   ]
  },
  {
   "cell_type": "code",
   "execution_count": 188,
   "id": "f668afc0-cf6b-48fa-ad11-6acf6db18f69",
   "metadata": {},
   "outputs": [],
   "source": [
    "# @tf.function\n",
    "# def plus_two(x):\n",
    "#   print(\"Tracing!\") # An eager-only side effect.\n",
    "#   return x + tf.constant(2)\n",
    "\n",
    "@tf.function\n",
    "def plus_two_py(x):\n",
    "  print(\"Tracing!\") # An eager-only side effect.\n",
    "  return x + tf.constant(2)\n",
    "\n",
    "plus_two_tf = tf.function(plus_two_py)"
   ]
  },
  {
   "cell_type": "code",
   "execution_count": null,
   "id": "099ae4f3-df77-460f-93f5-8e5073517605",
   "metadata": {},
   "outputs": [],
   "source": []
  },
  {
   "cell_type": "code",
   "execution_count": 56,
   "id": "9dc1f53f-591f-4683-aefc-ef5458109f89",
   "metadata": {},
   "outputs": [
    {
     "name": "stdout",
     "output_type": "stream",
     "text": [
      "Tracing!\n"
     ]
    },
    {
     "data": {
      "text/plain": [
       "<ConcreteFunction plus_two(x=3) at 0x16BCB0130>"
      ]
     },
     "execution_count": 56,
     "metadata": {},
     "output_type": "execute_result"
    }
   ],
   "source": [
    "plus_two.get_concrete_function(3)"
   ]
  },
  {
   "cell_type": "code",
   "execution_count": 57,
   "id": "355a289c-5a0b-4e4c-b34b-7591912b445a",
   "metadata": {},
   "outputs": [
    {
     "data": {
      "text/plain": [
       "<ConcreteFunction plus_two(x=3) at 0x16BCB0130>"
      ]
     },
     "execution_count": 57,
     "metadata": {},
     "output_type": "execute_result"
    }
   ],
   "source": [
    "plus_two.get_concrete_function(3)"
   ]
  },
  {
   "cell_type": "code",
   "execution_count": 58,
   "id": "50921cc9-a559-43b3-9173-83c9f0342e71",
   "metadata": {},
   "outputs": [
    {
     "name": "stdout",
     "output_type": "stream",
     "text": [
      "plus_two(x=1)\n",
      "  Returns:\n",
      "    int32 Tensor, shape=()\n",
      "\n",
      "plus_two(x=2)\n",
      "  Returns:\n",
      "    int32 Tensor, shape=()\n",
      "\n",
      "plus_two(x=3)\n",
      "  Returns:\n",
      "    int32 Tensor, shape=()\n"
     ]
    }
   ],
   "source": [
    "print(plus_two.pretty_printed_concrete_signatures())"
   ]
  },
  {
   "cell_type": "code",
   "execution_count": 73,
   "id": "6c1ee665-7bea-43c7-952b-779dd4a55ced",
   "metadata": {},
   "outputs": [],
   "source": [
    "cf = plus_two.get_concrete_function(3)"
   ]
  },
  {
   "cell_type": "code",
   "execution_count": 74,
   "id": "66f3c75f-a951-409f-b128-fa8f6f3b08e5",
   "metadata": {},
   "outputs": [
    {
     "data": {
      "text/plain": [
       "['add_gradient_functions_to_graph',\n",
       " 'add_to_graph',\n",
       " 'captured_inputs',\n",
       " 'function_def',\n",
       " 'graph',\n",
       " 'inputs',\n",
       " 'name',\n",
       " 'output_dtypes',\n",
       " 'output_shapes',\n",
       " 'outputs',\n",
       " 'pretty_printed_signature',\n",
       " 'replace_capture_with_deferred_capture',\n",
       " 'set_external_captures',\n",
       " 'set_variables',\n",
       " 'structured_input_signature',\n",
       " 'structured_outputs',\n",
       " 'trainable_variables',\n",
       " 'variables']"
      ]
     },
     "execution_count": 74,
     "metadata": {},
     "output_type": "execute_result"
    }
   ],
   "source": [
    "pub(cf)"
   ]
  },
  {
   "cell_type": "code",
   "execution_count": 90,
   "id": "b977a6bf-1dd0-44f7-a35c-9090c81cf83a",
   "metadata": {},
   "outputs": [
    {
     "data": {
      "text/plain": [
       "{'add_gradient_functions_to_graph': method,\n",
       " 'add_to_graph': method,\n",
       " 'captured_inputs': list,\n",
       " 'function_def': tensorflow.core.framework.function_pb2.FunctionDef,\n",
       " 'graph': tensorflow.python.framework.func_graph.FuncGraph,\n",
       " 'inputs': list,\n",
       " 'name': bytes,\n",
       " 'output_dtypes': tensorflow.python.framework.dtypes.DType,\n",
       " 'output_shapes': tensorflow.python.framework.tensor_shape.TensorShape,\n",
       " 'outputs': list,\n",
       " 'pretty_printed_signature': method,\n",
       " 'replace_capture_with_deferred_capture': method,\n",
       " 'set_external_captures': method,\n",
       " 'set_variables': method,\n",
       " 'structured_input_signature': tuple,\n",
       " 'structured_outputs': tensorflow.python.framework.ops.Tensor,\n",
       " 'trainable_variables': tuple,\n",
       " 'variables': tuple}"
      ]
     },
     "execution_count": 90,
     "metadata": {},
     "output_type": "execute_result"
    }
   ],
   "source": [
    "pub_t(cf)"
   ]
  },
  {
   "cell_type": "code",
   "execution_count": 76,
   "id": "4132427d-1ade-4645-b84f-2a135f22e593",
   "metadata": {},
   "outputs": [],
   "source": [
    "def fn(x):\n",
    "    return x + 2"
   ]
  },
  {
   "cell_type": "code",
   "execution_count": 78,
   "id": "0b0589ac-bea2-4abe-b1d8-818751424709",
   "metadata": {},
   "outputs": [
    {
     "data": {
      "text/plain": [
       "<function __main__.outer_factory.<locals>.inner_factory.<locals>.tf__fn(x)>"
      ]
     },
     "execution_count": 78,
     "metadata": {},
     "output_type": "execute_result"
    }
   ],
   "source": [
    "gfn = tf.autograph.to_graph(fn)\n",
    "gfn"
   ]
  },
  {
   "cell_type": "code",
   "execution_count": 82,
   "id": "b1bef50e-2f3e-4946-9002-d46c9b6687a8",
   "metadata": {},
   "outputs": [
    {
     "data": {
      "text/plain": [
       "{'ag_module': <module '__autograph_generated_file35movjbo' from '/var/folders/l0/b7g1cb8x6jjftr65vxz7h2600000gn/T/__autograph_generated_file35movjbo.py'>,\n",
       " 'ag_source_map': {LineLocation(filename='/var/folders/l0/b7g1cb8x6jjftr65vxz7h2600000gn/T/__autograph_generated_file35movjbo.py', lineno=6): 231541357.py:1:0,\n",
       "  LineLocation(filename='/var/folders/l0/b7g1cb8x6jjftr65vxz7h2600000gn/T/__autograph_generated_file35movjbo.py', lineno=10): 231541357.py:2:4,\n",
       "  LineLocation(filename='/var/folders/l0/b7g1cb8x6jjftr65vxz7h2600000gn/T/__autograph_generated_file35movjbo.py', lineno=12): 231541357.py:2:11},\n",
       " 'autograph_info__': None}"
      ]
     },
     "execution_count": 82,
     "metadata": {},
     "output_type": "execute_result"
    }
   ],
   "source": [
    "pub_v(gfn)"
   ]
  },
  {
   "cell_type": "code",
   "execution_count": 101,
   "id": "cd56cc8f-9592-40dd-88dd-64e105f50398",
   "metadata": {},
   "outputs": [
    {
     "name": "stdout",
     "output_type": "stream",
     "text": [
      "def tf__fn(x):\n",
      "    with ag__.FunctionScope('fn', 'fscope', ag__.ConversionOptions(recursive=True, user_requested=True, optional_features=(), internal_convert_user_code=True)) as fscope:\n",
      "        do_return = False\n",
      "        retval_ = ag__.UndefinedReturnValue()\n",
      "        try:\n",
      "            do_return = True\n",
      "            retval_ = ag__.ld(x) + 2\n",
      "        except:\n",
      "            do_return = False\n",
      "            raise\n",
      "        return fscope.ret(retval_, do_return)\n",
      "\n"
     ]
    }
   ],
   "source": [
    "print(tf.autograph.to_code(fn))"
   ]
  },
  {
   "cell_type": "code",
   "execution_count": 86,
   "id": "b0267d8c-8e26-4de0-90b7-34ec7406193d",
   "metadata": {},
   "outputs": [],
   "source": [
    "inner = gfn.ag_module.outer_factory()"
   ]
  },
  {
   "cell_type": "code",
   "execution_count": 92,
   "id": "93ad4683-022e-4f9e-9edc-6c620c7b4ffa",
   "metadata": {},
   "outputs": [],
   "source": [
    "import inspect"
   ]
  },
  {
   "cell_type": "code",
   "execution_count": 97,
   "id": "8f70e717-7866-4f56-99fd-c852bb1b1817",
   "metadata": {},
   "outputs": [
    {
     "data": {
      "text/plain": [
       "'def fn(x):\\n    return x + 2\\n'"
      ]
     },
     "execution_count": 97,
     "metadata": {},
     "output_type": "execute_result"
    }
   ],
   "source": [
    "inspect.getsource(fn)"
   ]
  },
  {
   "cell_type": "code",
   "execution_count": 99,
   "id": "c18ae428-07a6-4e58-8614-6e385b22d55f",
   "metadata": {},
   "outputs": [
    {
     "name": "stdout",
     "output_type": "stream",
     "text": [
      "        def tf__fn(x):\n",
      "            with ag__.FunctionScope('fn', 'fscope', ag__.ConversionOptions(recursive=True, user_requested=True, optional_features=(), internal_convert_user_code=True)) as fscope:\n",
      "                do_return = False\n",
      "                retval_ = ag__.UndefinedReturnValue()\n",
      "                try:\n",
      "                    do_return = True\n",
      "                    retval_ = ag__.ld(x) + 2\n",
      "                except:\n",
      "                    do_return = False\n",
      "                    raise\n",
      "                return fscope.ret(retval_, do_return)\n",
      "\n"
     ]
    }
   ],
   "source": [
    "print(inspect.getsource(gfn))"
   ]
  },
  {
   "cell_type": "code",
   "execution_count": 91,
   "id": "4b0efcab-7ca7-43f2-a4cc-6b5a140e46a0",
   "metadata": {},
   "outputs": [
    {
     "ename": "AttributeError",
     "evalue": "'int' object has no attribute 'FunctionScope'",
     "output_type": "error",
     "traceback": [
      "\u001b[0;31m---------------------------------------------------------------------------\u001b[0m",
      "\u001b[0;31mAttributeError\u001b[0m                            Traceback (most recent call last)",
      "Input \u001b[0;32mIn [91]\u001b[0m, in \u001b[0;36m<cell line: 1>\u001b[0;34m()\u001b[0m\n\u001b[0;32m----> 1\u001b[0m \u001b[43minner\u001b[49m\u001b[43m(\u001b[49m\u001b[38;5;241;43m1\u001b[39;49m\u001b[43m)\u001b[49m\u001b[43m(\u001b[49m\u001b[38;5;241;43m1\u001b[39;49m\u001b[43m)\u001b[49m\n",
      "File \u001b[0;32m/var/folders/l0/b7g1cb8x6jjftr65vxz7h2600000gn/T/__autograph_generated_file35movjbo.py:7\u001b[0m, in \u001b[0;36mouter_factory.<locals>.inner_factory.<locals>.tf__fn\u001b[0;34m(x)\u001b[0m\n\u001b[1;32m      6\u001b[0m \u001b[38;5;28;01mdef\u001b[39;00m \u001b[38;5;21mtf__fn\u001b[39m(x):\n\u001b[0;32m----> 7\u001b[0m     \u001b[38;5;28;01mwith\u001b[39;00m \u001b[43mag__\u001b[49m\u001b[38;5;241;43m.\u001b[39;49m\u001b[43mFunctionScope\u001b[49m(\u001b[38;5;124m'\u001b[39m\u001b[38;5;124mfn\u001b[39m\u001b[38;5;124m'\u001b[39m, \u001b[38;5;124m'\u001b[39m\u001b[38;5;124mfscope\u001b[39m\u001b[38;5;124m'\u001b[39m, ag__\u001b[38;5;241m.\u001b[39mConversionOptions(recursive\u001b[38;5;241m=\u001b[39m\u001b[38;5;28;01mTrue\u001b[39;00m, user_requested\u001b[38;5;241m=\u001b[39m\u001b[38;5;28;01mTrue\u001b[39;00m, optional_features\u001b[38;5;241m=\u001b[39m(), internal_convert_user_code\u001b[38;5;241m=\u001b[39m\u001b[38;5;28;01mTrue\u001b[39;00m)) \u001b[38;5;28;01mas\u001b[39;00m fscope:\n\u001b[1;32m      8\u001b[0m         do_return \u001b[38;5;241m=\u001b[39m \u001b[38;5;28;01mFalse\u001b[39;00m\n\u001b[1;32m      9\u001b[0m         retval_ \u001b[38;5;241m=\u001b[39m ag__\u001b[38;5;241m.\u001b[39mUndefinedReturnValue()\n",
      "\u001b[0;31mAttributeError\u001b[0m: 'int' object has no attribute 'FunctionScope'"
     ]
    }
   ],
   "source": [
    "inner(1)(1)"
   ]
  },
  {
   "cell_type": "code",
   "execution_count": 87,
   "id": "f3f9e84f-bfba-447e-9885-d19c77f46758",
   "metadata": {},
   "outputs": [
    {
     "name": "stdout",
     "output_type": "stream",
     "text": [
      "ConcreteFunction pow(a, b=2)\n",
      "  Args:\n",
      "    a: float32 Tensor, shape=<unknown>\n",
      "  Returns:\n",
      "    float32 Tensor, shape=<unknown>\n"
     ]
    }
   ],
   "source": [
    "@tf.function\n",
    "def pow(a, b):\n",
    "  return a ** b\n",
    "\n",
    "square = pow.get_concrete_function(a=tf.TensorSpec(None, tf.float32), b=2)\n",
    "print(square)"
   ]
  },
  {
   "cell_type": "code",
   "execution_count": 106,
   "id": "0469f54b-e93f-4ef9-9372-e96f30970df8",
   "metadata": {},
   "outputs": [
    {
     "data": {
      "text/plain": [
       "<tf.Tensor: shape=(), dtype=float32, numpy=9.0>"
      ]
     },
     "execution_count": 106,
     "metadata": {},
     "output_type": "execute_result"
    }
   ],
   "source": [
    "square(tf.constant(3.0))"
   ]
  },
  {
   "cell_type": "code",
   "execution_count": 110,
   "id": "e667e25d-b921-4212-a5f3-07cdb311b23b",
   "metadata": {},
   "outputs": [
    {
     "data": {
      "text/plain": [
       "<tf.Tensor: shape=(), dtype=float32, numpy=9.0>"
      ]
     },
     "execution_count": 110,
     "metadata": {},
     "output_type": "execute_result"
    }
   ],
   "source": [
    "square(tf.constant(3.0), b=2)"
   ]
  },
  {
   "cell_type": "code",
   "execution_count": 177,
   "id": "526ad91a-171f-44cb-a098-e6a68a31613f",
   "metadata": {},
   "outputs": [
    {
     "data": {
      "text/plain": [
       "\"pow/Pow(['a', 'pow/y']) -> {'T': type: DT_FLOAT\\n}\""
      ]
     },
     "execution_count": 177,
     "metadata": {},
     "output_type": "execute_result"
    }
   ],
   "source": [
    "render_node(p)"
   ]
  },
  {
   "cell_type": "code",
   "execution_count": 9,
   "id": "ead67807-9787-409f-8842-c804e7349376",
   "metadata": {},
   "outputs": [],
   "source": [
    "from matplotlib import pyplot as plt\n",
    "import numpy as np"
   ]
  },
  {
   "cell_type": "code",
   "execution_count": 25,
   "id": "f13cdf18-0ebf-4c96-9410-20147fdec15c",
   "metadata": {},
   "outputs": [],
   "source": [
    "x = np.arange(0., 10., 0.2)\n",
    "y = 2 * (x-3)**2 + 3"
   ]
  },
  {
   "cell_type": "code",
   "execution_count": 26,
   "id": "4f86f835-6e38-457f-9f83-4e3f511cdb9a",
   "metadata": {},
   "outputs": [
    {
     "data": {
      "text/plain": [
       "[<matplotlib.lines.Line2D at 0x166a9aa70>]"
      ]
     },
     "execution_count": 26,
     "metadata": {},
     "output_type": "execute_result"
    },
    {
     "data": {
      "image/png": "[encoded data removed]",
      "text/plain": [
       "<Figure size 432x288 with 1 Axes>"
      ]
     },
     "metadata": {
      "needs_background": "light"
     },
     "output_type": "display_data"
    }
   ],
   "source": [
    "plt.plot(x, y)"
   ]
  },
  {
   "cell_type": "code",
   "execution_count": 68,
   "id": "c6dd40ac-d7b7-459c-8c00-8e5eb1cb2997",
   "metadata": {},
   "outputs": [],
   "source": [
    "def diff(xs):\n",
    "    derivs = []\n",
    "    y = tf.Variable(0)\n",
    "    for x in xs:\n",
    "        # x = tf.Variable(x)†\n",
    "        with tf.GradientTape(persistent=True) as g:\n",
    "            g.watch(x)\n",
    "            y = 2 * (x-3)**2 + 3\n",
    "        # print(f\"{x=}, {g.gradient(y, x)=}\")\n",
    "        derivs.append((x, g.gradient(y, x)))\n",
    "    return derivs"
   ]
  },
  {
   "cell_type": "code",
   "execution_count": 69,
   "id": "642914b9-7853-4568-8dcf-b74d99f53eaa",
   "metadata": {},
   "outputs": [],
   "source": [
    "grads = diff(tf.Variable(x))"
   ]
  },
  {
   "cell_type": "code",
   "execution_count": 70,
   "id": "26e2642e-0d03-4cd6-bdd0-ce577ac4f604",
   "metadata": {},
   "outputs": [],
   "source": [
    "grad_x = [x[0].numpy() for x in grads]\n",
    "grad_y = [x[1].numpy() for x in grads]"
   ]
  },
  {
   "cell_type": "code",
   "execution_count": 71,
   "id": "1be4a8c8-a984-475d-a6f1-f0ad9ed13738",
   "metadata": {},
   "outputs": [
    {
     "data": {
      "text/plain": [
       "[<matplotlib.lines.Line2D at 0x16725bc70>]"
      ]
     },
     "execution_count": 71,
     "metadata": {},
     "output_type": "execute_result"
    },
    {
     "data": {
      "image/png": "[encoded data removed]",
      "text/plain": [
       "<Figure size 432x288 with 1 Axes>"
      ]
     },
     "metadata": {
      "needs_background": "light"
     },
     "output_type": "display_data"
    }
   ],
   "source": [
    "plt.plot(grad_x, grad_y)"
   ]
  },
  {
   "cell_type": "code",
   "execution_count": null,
   "id": "09b179ce-3497-43bf-a4a9-8f716dd717c1",
   "metadata": {},
   "outputs": [],
   "source": []
  }
 ],
 "metadata": {
  "kernelspec": {
   "display_name": "Python 3 (ipykernel)",
   "language": "python",
   "name": "python3"
  },
  "language_info": {
   "codemirror_mode": {
    "name": "ipython",
    "version": 3
   },
   "file_extension": ".py",
   "mimetype": "text/x-python",
   "name": "python",
   "nbconvert_exporter": "python",
   "pygments_lexer": "ipython3",
   "version": "3.10.4"
  },
  "toc-autonumbering": true,
  "toc-showcode": true,
  "toc-showmarkdowntxt": false
 },
 "nbformat": 4,
 "nbformat_minor": 5
}
