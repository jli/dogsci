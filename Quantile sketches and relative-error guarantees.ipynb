{
 "cells": [
  {
   "cell_type": "markdown",
   "id": "personalized-steps",
   "metadata": {},
   "source": [
    "# Quantile sketch bucket sizes for relative-error guarantees\n",
    "\n",
    "From https://www.datadoghq.com/blog/engineering/computing-accurate-percentiles-with-ddsketch/#achieving-relative-error-guarantees:\n",
    "> For this sketch to be efficient, we need to make sure its memory size, which only depends on the number of buckets, is low: we need to cover the full range of ingested values with as few buckets as possible. To accomplish this, we choose buckets that are as wide as possible: namely, whose relative width is twice the relative-error guarantee. At first glance, it seems that a huge number of buckets is required to cover practical ranges of values, but because the bucket width grows exponentially (the higher the bucket, the larger it can be), it’s not as bad as it first seems. For instance, to cover the range from 1 millisecond to 1 minute with a relative-error guarantee of 2 percent, we need 275 buckets, hence a sketch of about 2kB if 64-bit counters are used. Given the exponential nature of the bucket width, to cover the range from 1 nanosecond to 1 day, you would only need 3 times as many buckets: namely, 802 buckets.\n",
    "\n",
    "This seems non-intuitive!"
   ]
  },
  {
   "cell_type": "markdown",
   "id": "enabling-defeat",
   "metadata": {},
   "source": [
    "## code"
   ]
  },
  {
   "cell_type": "code",
   "execution_count": 25,
   "id": "killing-sheriff",
   "metadata": {},
   "outputs": [],
   "source": [
    "import seaborn as sns\n",
    "\n",
    "# the bucket values are actually the bucket boundaries\n",
    "\n",
    "def fixed_buckets(start, stop, inc):\n",
    "    xs = []\n",
    "    cur = start\n",
    "    while cur < stop:\n",
    "        xs.append(cur)\n",
    "        cur += inc\n",
    "    return xs\n",
    "\n",
    "def relative_buckets(start, stop, relerr):\n",
    "    assert start >= 1\n",
    "    assert (0 < relerr and relerr <= 1)\n",
    "    # multiply by relerr factor 2x:\n",
    "    # first to get to midpoint, then to get to end of bucket\n",
    "    relerrmult = (1 + relerr) ** 2\n",
    "    xs = []\n",
    "    cur = start\n",
    "    while cur <= stop:\n",
    "        xs.append(cur)\n",
    "        cur *= relerrmult\n",
    "    return xs"
   ]
  },
  {
   "cell_type": "code",
   "execution_count": 26,
   "id": "weekly-imaging",
   "metadata": {},
   "outputs": [],
   "source": [
    "bs = fixed_buckets(1, 10, 0.2)"
   ]
  },
  {
   "cell_type": "code",
   "execution_count": 27,
   "id": "brief-christianity",
   "metadata": {},
   "outputs": [
    {
     "name": "stdout",
     "output_type": "stream",
     "text": [
      "46\n"
     ]
    },
    {
     "data": {
      "text/plain": [
       "<AxesSubplot:>"
      ]
     },
     "execution_count": 27,
     "metadata": {},
     "output_type": "execute_result"
    },
    {
     "data": {
      "image/png": "[encoded data removed]",
      "text/plain": [
       "<Figure size 432x288 with 1 Axes>"
      ]
     },
     "metadata": {
      "needs_background": "light"
     },
     "output_type": "display_data"
    }
   ],
   "source": [
    "print(len(bs))\n",
    "sns.rugplot(bs)"
   ]
  },
  {
   "cell_type": "code",
   "execution_count": 28,
   "id": "brutal-envelope",
   "metadata": {},
   "outputs": [
    {
     "name": "stdout",
     "output_type": "stream",
     "text": [
      "59\n"
     ]
    },
    {
     "data": {
      "text/plain": [
       "<AxesSubplot:>"
      ]
     },
     "execution_count": 28,
     "metadata": {},
     "output_type": "execute_result"
    },
    {
     "data": {
      "image/png": "[encoded data removed]",
      "text/plain": [
       "<Figure size 432x288 with 1 Axes>"
      ]
     },
     "metadata": {
      "needs_background": "light"
     },
     "output_type": "display_data"
    }
   ],
   "source": [
    "relbs = relative_buckets(1, 10, 0.02)\n",
    "print(len(relbs))\n",
    "sns.rugplot(relbs)"
   ]
  },
  {
   "cell_type": "markdown",
   "id": "senior-highland",
   "metadata": {},
   "source": [
    "## testing assertion\n",
    "\n",
    "> to cover the range from 1 millisecond to 1 minute with a relative-error guarantee of 2 percent, we need 275 buckets\n",
    "\n",
    "> to cover the range from 1 nanosecond to 1 day, you would only need 3 times as many buckets: namely, 802 buckets."
   ]
  },
  {
   "cell_type": "code",
   "execution_count": 34,
   "id": "exclusive-importance",
   "metadata": {},
   "outputs": [],
   "source": [
    "def one_ms_to_1_minute():\n",
    "    one_minute_in_ms = 1000 * 60\n",
    "    bs = relative_buckets(1, one_minute_in_ms, 0.02)\n",
    "    print(f'1ms to 1min: {len(bs)}')\n",
    "    sns.rugplot(bs)\n",
    "    return bs\n",
    "\n",
    "def one_ns_to_1_day():\n",
    "    one_day_in_ns = 1000 * 1000 * 1000 * 60 * 60 * 24\n",
    "    bs = relative_buckets(1, one_day_in_ns, 0.02)\n",
    "    print(f'1ns to 1day: {len(bs)}')\n",
    "    sns.rugplot(bs)\n",
    "    return bs\n"
   ]
  },
  {
   "cell_type": "code",
   "execution_count": 35,
   "id": "incomplete-mechanism",
   "metadata": {},
   "outputs": [
    {
     "name": "stdout",
     "output_type": "stream",
     "text": [
      "1ms to 1min: 278\n"
     ]
    },
    {
     "data": {
      "image/png": "[encoded data removed]",
      "text/plain": [
       "<Figure size 432x288 with 1 Axes>"
      ]
     },
     "metadata": {
      "needs_background": "light"
     },
     "output_type": "display_data"
    }
   ],
   "source": [
    "_ = one_ms_to_1_minute()"
   ]
  },
  {
   "cell_type": "code",
   "execution_count": 36,
   "id": "alleged-lewis",
   "metadata": {},
   "outputs": [
    {
     "name": "stdout",
     "output_type": "stream",
     "text": [
      "1ns to 1day: 811\n"
     ]
    },
    {
     "data": {
      "image/png": "[encoded data removed]",
      "text/plain": [
       "<Figure size 432x288 with 1 Axes>"
      ]
     },
     "metadata": {
      "needs_background": "light"
     },
     "output_type": "display_data"
    }
   ],
   "source": [
    "nsbs = one_ns_to_1_day()"
   ]
  },
  {
   "cell_type": "code",
   "execution_count": 37,
   "id": "conservative-charles",
   "metadata": {},
   "outputs": [
    {
     "data": {
      "text/plain": [
       "[1, 1.0404, 1.08243216, 1.126162419264, 1.1716593810022657]"
      ]
     },
     "execution_count": 37,
     "metadata": {},
     "output_type": "execute_result"
    }
   ],
   "source": [
    "nsbs[0:5]"
   ]
  },
  {
   "cell_type": "code",
   "execution_count": 58,
   "id": "fundamental-holder",
   "metadata": {},
   "outputs": [
    {
     "data": {
      "text/plain": [
       "[1217.098227164511,\n",
       " 1266.268995541957,\n",
       " 1317.4262629618524,\n",
       " 1370.6502839855114,\n",
       " 1426.0245554585258]"
      ]
     },
     "execution_count": 58,
     "metadata": {},
     "output_type": "execute_result"
    }
   ],
   "source": [
    "nsbs_tail_minutes = [t/1000/1000/1000/60 for t in nsbs[-5:]]\n",
    "nsbs_tail_minutes"
   ]
  },
  {
   "cell_type": "code",
   "execution_count": 61,
   "id": "opened-burden",
   "metadata": {},
   "outputs": [
    {
     "name": "stdout",
     "output_type": "stream",
     "text": [
      "last bucket size (minutes): 55.37427147301446\n",
      "last bucket relative error (bucket max): 0.0193987238976026\n"
     ]
    }
   ],
   "source": [
    "# could be nearly an hour off at the tail\n",
    "last_bucket_size = nsbs_tail_minutes[-1] - nsbs_tail_minutes[-2]\n",
    "last_bucket_mid = (nsbs_tail_minutes[-1] + nsbs_tail_minutes[-2])/2\n",
    "print('last bucket size (minutes):', last_bucket_size)\n",
    "print('last bucket relative error (bucket max):', (1426 - last_bucket_mid) / 1426)"
   ]
  }
 ],
 "metadata": {
  "kernelspec": {
   "display_name": "Python 3",
   "language": "python",
   "name": "python3"
  },
  "language_info": {
   "codemirror_mode": {
    "name": "ipython",
    "version": 3
   },
   "file_extension": ".py",
   "mimetype": "text/x-python",
   "name": "python",
   "nbconvert_exporter": "python",
   "pygments_lexer": "ipython3",
   "version": "3.9.0"
  }
 },
 "nbformat": 4,
 "nbformat_minor": 5
}
