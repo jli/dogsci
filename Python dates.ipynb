{
 "cells": [
  {
   "cell_type": "markdown",
   "id": "prostate-access",
   "metadata": {},
   "source": [
    "# Python date / time cheatsheet\n",
    "\n",
    "- constructing common values\n",
    "- conversion\n",
    "- timezones..."
   ]
  },
  {
   "cell_type": "code",
   "execution_count": 186,
   "id": "powered-minnesota",
   "metadata": {},
   "outputs": [],
   "source": [
    "import datetime"
   ]
  },
  {
   "cell_type": "markdown",
   "id": "spiritual-monthly",
   "metadata": {},
   "source": [
    "## constructing datetimes"
   ]
  },
  {
   "cell_type": "code",
   "execution_count": 2,
   "id": "powered-million",
   "metadata": {},
   "outputs": [
    {
     "data": {
      "text/plain": [
       "datetime.datetime(2021, 2, 11, 13, 54, 45, 515407)"
      ]
     },
     "execution_count": 2,
     "metadata": {},
     "output_type": "execute_result"
    }
   ],
   "source": [
    "# () -> datetime\n",
    "datetime.datetime.now()"
   ]
  },
  {
   "cell_type": "code",
   "execution_count": 104,
   "id": "stretch-release",
   "metadata": {},
   "outputs": [
    {
     "name": "stdout",
     "output_type": "stream",
     "text": [
      "2021-02-11 01:02:03\n",
      "2021-02-11 01:02:03.456000\n"
     ]
    }
   ],
   "source": [
    "# ISO 8601 str -> datetime\n",
    "print(datetime.datetime.fromisoformat('2021-02-11T01:02:03'))\n",
    "print(datetime.datetime.fromisoformat('2021-02-11T01:02:03.456'))"
   ]
  },
  {
   "cell_type": "code",
   "execution_count": 105,
   "id": "alpine-resource",
   "metadata": {},
   "outputs": [
    {
     "data": {
      "text/plain": [
       "datetime.datetime(2021, 2, 11, 0, 0)"
      ]
     },
     "execution_count": 105,
     "metadata": {},
     "output_type": "execute_result"
    }
   ],
   "source": [
    "# ISO 8601 str -> datetime at midnight\n",
    "datetime.datetime.fromisoformat('2021-02-11')"
   ]
  },
  {
   "cell_type": "code",
   "execution_count": 106,
   "id": "infrared-survey",
   "metadata": {},
   "outputs": [
    {
     "data": {
      "text/plain": [
       "datetime.datetime(2021, 2, 11, 0, 11, 23)"
      ]
     },
     "execution_count": 106,
     "metadata": {},
     "output_type": "execute_result"
    }
   ],
   "source": [
    "# arbitrary str -> datetime\n",
    "datetime.datetime.strptime('20210211_001123', '%Y%m%d_%H%M%S')"
   ]
  },
  {
   "cell_type": "code",
   "execution_count": 107,
   "id": "wrapped-yeast",
   "metadata": {},
   "outputs": [
    {
     "data": {
      "text/plain": [
       "datetime.datetime(2021, 2, 11, 0, 0)"
      ]
     },
     "execution_count": 107,
     "metadata": {},
     "output_type": "execute_result"
    }
   ],
   "source": [
    "# arbitrary str -> datetime at midnight\n",
    "datetime.datetime.strptime('20210211', '%Y%m%d')"
   ]
  },
  {
   "cell_type": "code",
   "execution_count": 108,
   "id": "fifteen-lebanon",
   "metadata": {},
   "outputs": [
    {
     "data": {
      "text/plain": [
       "datetime.datetime(2021, 2, 11, 12, 34, 56)"
      ]
     },
     "execution_count": 108,
     "metadata": {},
     "output_type": "execute_result"
    }
   ],
   "source": [
    "# y,m,d,h,m,s ints -> datetime\n",
    "datetime.datetime(2021, 2, 11, 12, 34, 56)"
   ]
  },
  {
   "cell_type": "markdown",
   "id": "quick-meeting",
   "metadata": {},
   "source": [
    "## constructing dates"
   ]
  },
  {
   "cell_type": "code",
   "execution_count": 3,
   "id": "earned-flashing",
   "metadata": {},
   "outputs": [
    {
     "data": {
      "text/plain": [
       "datetime.date(2021, 2, 11)"
      ]
     },
     "execution_count": 3,
     "metadata": {},
     "output_type": "execute_result"
    }
   ],
   "source": [
    "# () -> date\n",
    "datetime.date.today()"
   ]
  },
  {
   "cell_type": "code",
   "execution_count": 33,
   "id": "handed-accident",
   "metadata": {},
   "outputs": [
    {
     "data": {
      "text/plain": [
       "datetime.date(2021, 2, 11)"
      ]
     },
     "execution_count": 33,
     "metadata": {},
     "output_type": "execute_result"
    }
   ],
   "source": [
    "# ISO 8601 string -> date\n",
    "datetime.date.fromisoformat('2021-02-11')"
   ]
  },
  {
   "cell_type": "code",
   "execution_count": 109,
   "id": "hundred-cassette",
   "metadata": {},
   "outputs": [
    {
     "data": {
      "text/plain": [
       "datetime.date(2021, 2, 11)"
      ]
     },
     "execution_count": 109,
     "metadata": {},
     "output_type": "execute_result"
    }
   ],
   "source": [
    "# y,m,d ints -> date\n",
    "datetime.date(2021, 2, 11)"
   ]
  },
  {
   "cell_type": "code",
   "execution_count": 110,
   "id": "advised-sympathy",
   "metadata": {},
   "outputs": [
    {
     "data": {
      "text/plain": [
       "datetime.date(2021, 2, 11)"
      ]
     },
     "execution_count": 110,
     "metadata": {},
     "output_type": "execute_result"
    }
   ],
   "source": [
    "# arbitrary string -> date\n",
    "# no strptime for dates, but can use datetime\n",
    "datetime.datetime.strptime('2021_02_11', '%Y_%m_%d').date()"
   ]
  },
  {
   "cell_type": "markdown",
   "id": "unknown-services",
   "metadata": {},
   "source": [
    "## converting"
   ]
  },
  {
   "cell_type": "code",
   "execution_count": 111,
   "id": "under-michael",
   "metadata": {},
   "outputs": [
    {
     "data": {
      "text/plain": [
       "(datetime.date(2021, 2, 11), datetime.time(16, 32, 14, 419252))"
      ]
     },
     "execution_count": 111,
     "metadata": {},
     "output_type": "execute_result"
    }
   ],
   "source": [
    "# date, time -> datetime\n",
    "datetime.datetime.now().date(), datetime.datetime.now().time()"
   ]
  },
  {
   "cell_type": "code",
   "execution_count": 112,
   "id": "detected-inventory",
   "metadata": {},
   "outputs": [
    {
     "data": {
      "text/plain": [
       "datetime.datetime(2021, 2, 11, 0, 0)"
      ]
     },
     "execution_count": 112,
     "metadata": {},
     "output_type": "execute_result"
    }
   ],
   "source": [
    "# date -> datetime at midnight\n",
    "datetime.datetime.combine(datetime.date.today(), datetime.time.min)"
   ]
  },
  {
   "cell_type": "markdown",
   "id": "interpreted-latter",
   "metadata": {},
   "source": [
    "## unix epoch conversions"
   ]
  },
  {
   "cell_type": "code",
   "execution_count": 113,
   "id": "better-statistics",
   "metadata": {},
   "outputs": [
    {
     "data": {
      "text/plain": [
       "1613079156.437853"
      ]
     },
     "execution_count": 113,
     "metadata": {},
     "output_type": "execute_result"
    }
   ],
   "source": [
    "# datetime -> timestamp int\n",
    "datetime.datetime.now().timestamp()"
   ]
  },
  {
   "cell_type": "code",
   "execution_count": 114,
   "id": "prospective-rocket",
   "metadata": {},
   "outputs": [
    {
     "data": {
      "text/plain": [
       "datetime.datetime(2021, 2, 11, 16, 14, 55, 689000)"
      ]
     },
     "execution_count": 114,
     "metadata": {},
     "output_type": "execute_result"
    }
   ],
   "source": [
    "# timestamp int -> datetime\n",
    "datetime.datetime.fromtimestamp(1613078095.689)"
   ]
  },
  {
   "cell_type": "code",
   "execution_count": 117,
   "id": "detailed-glory",
   "metadata": {},
   "outputs": [
    {
     "data": {
      "text/plain": [
       "datetime.date(2021, 2, 11)"
      ]
     },
     "execution_count": 117,
     "metadata": {},
     "output_type": "execute_result"
    }
   ],
   "source": [
    "# timestamp int -> date\n",
    "# equiv: datetime.fromtimestamp . date\n",
    "datetime.date.fromtimestamp(1613078095.689)"
   ]
  },
  {
   "cell_type": "code",
   "execution_count": 118,
   "id": "prepared-merchandise",
   "metadata": {},
   "outputs": [
    {
     "data": {
      "text/plain": [
       "1613019600.0"
      ]
     },
     "execution_count": 118,
     "metadata": {},
     "output_type": "execute_result"
    }
   ],
   "source": [
    "# date -> timestamp at midnight\n",
    "datetime.datetime.combine(datetime.date.today(), datetime.time.min).timestamp()"
   ]
  },
  {
   "cell_type": "markdown",
   "id": "complicated-dylan",
   "metadata": {},
   "source": [
    "## string formatting"
   ]
  },
  {
   "cell_type": "code",
   "execution_count": 120,
   "id": "future-humanitarian",
   "metadata": {},
   "outputs": [
    {
     "data": {
      "text/plain": [
       "'2021-02-11T16:33:49.611874'"
      ]
     },
     "execution_count": 120,
     "metadata": {},
     "output_type": "execute_result"
    }
   ],
   "source": [
    "# datetime -> ISO 8601 str\n",
    "datetime.datetime.now().isoformat()"
   ]
  },
  {
   "cell_type": "code",
   "execution_count": 121,
   "id": "western-wedding",
   "metadata": {},
   "outputs": [
    {
     "data": {
      "text/plain": [
       "'20210211_163359'"
      ]
     },
     "execution_count": 121,
     "metadata": {},
     "output_type": "execute_result"
    }
   ],
   "source": [
    "# datetime -> arbitrary str\n",
    "datetime.datetime.now().strftime('%Y%m%d_%H%M%S')"
   ]
  },
  {
   "cell_type": "code",
   "execution_count": 122,
   "id": "respective-child",
   "metadata": {},
   "outputs": [
    {
     "data": {
      "text/plain": [
       "'2021-02-11'"
      ]
     },
     "execution_count": 122,
     "metadata": {},
     "output_type": "execute_result"
    }
   ],
   "source": [
    "# date -> ISO 8601 str\n",
    "datetime.date.today().isoformat()"
   ]
  },
  {
   "cell_type": "code",
   "execution_count": 123,
   "id": "greatest-alaska",
   "metadata": {},
   "outputs": [
    {
     "data": {
      "text/plain": [
       "'20210211'"
      ]
     },
     "execution_count": 123,
     "metadata": {},
     "output_type": "execute_result"
    }
   ],
   "source": [
    "# date -> arbitrary str\n",
    "datetime.date.today().strftime('%Y%m%d')"
   ]
  },
  {
   "cell_type": "markdown",
   "id": "developing-kitty",
   "metadata": {},
   "source": [
    "## timezones..."
   ]
  },
  {
   "cell_type": "code",
   "execution_count": 131,
   "id": "owned-decade",
   "metadata": {},
   "outputs": [],
   "source": [
    "UTCTZ = datetime.timezone.utc"
   ]
  },
  {
   "cell_type": "code",
   "execution_count": 144,
   "id": "damaged-world",
   "metadata": {},
   "outputs": [
    {
     "name": "stdout",
     "output_type": "stream",
     "text": [
      "naive tzinfo: None\n"
     ]
    },
    {
     "data": {
      "text/plain": [
       "datetime.datetime(2021, 2, 11, 16, 39, 43, 479784)"
      ]
     },
     "execution_count": 144,
     "metadata": {},
     "output_type": "execute_result"
    }
   ],
   "source": [
    "print('naive tzinfo:', datetime.datetime.now().tzinfo)\n",
    "datetime.datetime.now()"
   ]
  },
  {
   "cell_type": "code",
   "execution_count": 145,
   "id": "level-space",
   "metadata": {},
   "outputs": [
    {
     "name": "stdout",
     "output_type": "stream",
     "text": [
      "utcnow tzinfo: None\n"
     ]
    },
    {
     "data": {
      "text/plain": [
       "datetime.datetime(2021, 2, 11, 21, 40, 56, 306176)"
      ]
     },
     "execution_count": 145,
     "metadata": {},
     "output_type": "execute_result"
    }
   ],
   "source": [
    "# utcnow() is naive!\n",
    "print('utcnow tzinfo:', datetime.datetime.utcnow().tzinfo)\n",
    "datetime.datetime.utcnow()"
   ]
  },
  {
   "cell_type": "code",
   "execution_count": 142,
   "id": "breathing-wages",
   "metadata": {},
   "outputs": [
    {
     "name": "stdout",
     "output_type": "stream",
     "text": [
      "aware datetime: 2021-02-11 21:39:26.739105+00:00\n",
      "tzinfo value: UTC\n"
     ]
    },
    {
     "data": {
      "text/plain": [
       "datetime.datetime(2021, 2, 11, 21, 39, 26, 739105, tzinfo=datetime.timezone.utc)"
      ]
     },
     "execution_count": 142,
     "metadata": {},
     "output_type": "execute_result"
    }
   ],
   "source": [
    "nowutc = datetime.datetime.now(UTCTZ)\n",
    "print('aware datetime:', nowutc)\n",
    "print('tzinfo value:', nowutc.tzinfo)\n",
    "nowutc"
   ]
  },
  {
   "cell_type": "code",
   "execution_count": 125,
   "id": "ceramic-visitor",
   "metadata": {},
   "outputs": [
    {
     "data": {
      "text/plain": [
       "datetime.datetime(2021, 2, 11, 16, 33, 44, tzinfo=datetime.timezone.utc)"
      ]
     },
     "execution_count": 125,
     "metadata": {},
     "output_type": "execute_result"
    }
   ],
   "source": [
    "# ISO 8601 str -> aware datetime\n",
    "datetime.datetime.fromisoformat('2021-02-11 16:33:44+00:00')"
   ]
  },
  {
   "cell_type": "markdown",
   "id": "roman-picking",
   "metadata": {},
   "source": [
    "### timezone-aware epoch conversions"
   ]
  },
  {
   "cell_type": "code",
   "execution_count": 149,
   "id": "drawn-tower",
   "metadata": {},
   "outputs": [
    {
     "data": {
      "text/plain": [
       "18000.0"
      ]
     },
     "execution_count": 149,
     "metadata": {},
     "output_type": "execute_result"
    }
   ],
   "source": [
    "# naive datetime -> timestamp\n",
    "# problem: when converting naive datetimes to timestamps, local timezone is used\n",
    "datetime.datetime(1970,1,1,0,0,0).timestamp()"
   ]
  },
  {
   "cell_type": "code",
   "execution_count": 170,
   "id": "respective-yorkshire",
   "metadata": {},
   "outputs": [
    {
     "name": "stdout",
     "output_type": "stream",
     "text": [
      "epoch of    now(): 1613080110.541816\n",
      "epoch of utcnow(): 1613098110.541943\n"
     ]
    }
   ],
   "source": [
    "# utcnow is also naive!\n",
    "print('epoch of    now():', datetime.datetime.now().timestamp())\n",
    "print('epoch of utcnow():', datetime.datetime.utcnow().timestamp())"
   ]
  },
  {
   "cell_type": "code",
   "execution_count": 179,
   "id": "seasonal-manhattan",
   "metadata": {},
   "outputs": [
    {
     "name": "stdout",
     "output_type": "stream",
     "text": [
      "naive datetime at epoch start: 1969-12-31 19:00:00\n",
      "naive utc datetime at epoch start: 1970-01-01 00:00:00\n"
     ]
    }
   ],
   "source": [
    "# timestamp -> naive datetime. also uses local timezone\n",
    "print('naive datetime at epoch start:', datetime.datetime.fromtimestamp(0))\n",
    "# a bit better but still naive\n",
    "print('naive utc datetime at epoch start:', datetime.datetime.utcfromtimestamp(0))"
   ]
  },
  {
   "cell_type": "code",
   "execution_count": 174,
   "id": "collect-bulgaria",
   "metadata": {},
   "outputs": [
    {
     "data": {
      "text/plain": [
       "datetime.datetime(1970, 1, 1, 0, 0, tzinfo=datetime.timezone.utc)"
      ]
     },
     "execution_count": 174,
     "metadata": {},
     "output_type": "execute_result"
    }
   ],
   "source": [
    "# timestamp -> aware datetime\n",
    "datetime.datetime.fromtimestamp(0, UTCTZ)"
   ]
  },
  {
   "cell_type": "code",
   "execution_count": 176,
   "id": "scenic-patio",
   "metadata": {},
   "outputs": [
    {
     "name": "stdout",
     "output_type": "stream",
     "text": [
      "naive epoch start: 1970-01-01 00:00:00\n",
      "naive   timestamp: 18000.0\n"
     ]
    }
   ],
   "source": [
    "# date -> timestamp (midnight) danger!!!\n",
    "naive_epoch_start = datetime.datetime.combine(datetime.date(1970,1,1), datetime.time.min)\n",
    "print('naive epoch start:', naive_epoch_start)\n",
    "print('naive   timestamp:', naive_epoch_start.timestamp())"
   ]
  },
  {
   "cell_type": "code",
   "execution_count": 185,
   "id": "technical-syndicate",
   "metadata": {},
   "outputs": [
    {
     "name": "stdout",
     "output_type": "stream",
     "text": [
      "aware epoch start: 1970-01-01 00:00:00+00:00\n",
      "aware   timestamp: 0.0\n",
      "aware epoch start2: 1970-01-01 00:00:00+00:00\n",
      "aware   timestamp2: 0.0\n"
     ]
    }
   ],
   "source": [
    "# date -> timestamp (midnight) correct!\n",
    "aware_epoch_start = datetime.datetime.combine(datetime.date(1970,1,1), datetime.time.min).replace(tzinfo=UTCTZ)\n",
    "print('aware epoch start:', aware_epoch_start)\n",
    "print('aware   timestamp:', aware_epoch_start.timestamp())\n",
    "\n",
    "# date -> timestamp (midnight) correct!\n",
    "aware_epoch_start2 = datetime.datetime.combine(datetime.date(1970,1,1), datetime.time(tzinfo=UTCTZ))\n",
    "print('aware epoch start2:', aware_epoch_start2)\n",
    "print('aware   timestamp2:', aware_epoch_start2.timestamp())"
   ]
  }
 ],
 "metadata": {
  "kernelspec": {
   "display_name": "Python 3",
   "language": "python",
   "name": "python3"
  },
  "language_info": {
   "codemirror_mode": {
    "name": "ipython",
    "version": 3
   },
   "file_extension": ".py",
   "mimetype": "text/x-python",
   "name": "python",
   "nbconvert_exporter": "python",
   "pygments_lexer": "ipython3",
   "version": "3.9.0"
  }
 },
 "nbformat": 4,
 "nbformat_minor": 5
}
